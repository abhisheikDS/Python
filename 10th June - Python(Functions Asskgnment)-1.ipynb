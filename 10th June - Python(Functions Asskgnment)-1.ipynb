{
 "cells": [
  {
   "cell_type": "code",
   "execution_count": 2,
   "id": "5b3fe9f8",
   "metadata": {},
   "outputs": [
    {
     "name": "stdout",
     "output_type": "stream",
     "text": [
      "Length of the string: 13\n",
      "Uppercase string: HELLO, WORLD!\n",
      "Length of the string: 13\n"
     ]
    }
   ],
   "source": [
    "# 1. In Python, what is the difference between a built-in function and a user-defined function? Provide an example of each.\n",
    "\n",
    "# Buit-in function:\n",
    "-Functions that are pre-defined in the Python language and are readily available for use. \n",
    "-Built-in functions are provided by python standard library. \n",
    "-Some built-in functions are print(), len(), input(), range(), and type() etc.\n",
    "-Example for built-in funtions:\n",
    "    \n",
    "\n",
    "my_string = \"Hello, World!\"\n",
    "# Finding the length of the string\n",
    "length = len(my_string)\n",
    "print(\"Length of the string:\", length) #Length of the string: 13\n",
    "# Converting the string to uppercase\n",
    "upper_case_string = my_string.upper()\n",
    "print(\"Uppercase string:\", upper_case_string) #Uppercase string: HELLO, WORLD!\n",
    "       \n",
    "\n",
    "# User-defined function:\n",
    "-Funtion that are created by the user to perform some specific task are called user-defined function.\n",
    "-Using def keyword we can define own functions.\n",
    "-Example for user-defined function\n",
    "\n",
    "def string_length(string):\n",
    "    length = 0\n",
    "    for char in string:\n",
    "        length += 1\n",
    "    return length\n",
    "\n",
    "my_string = \"Hello, World!\"\n",
    "length = string_length(my_string)\n",
    "print(\"Length of the string:\", length) #Length of the string: 13\n"
   ]
  },
  {
   "cell_type": "code",
   "execution_count": 6,
   "id": "6d845585",
   "metadata": {},
   "outputs": [
    {
     "name": "stdout",
     "output_type": "stream",
     "text": [
      "Hello, Abhisheik\n",
      "You are 23 years old.\n",
      "Hello, Abhisheik\n",
      "You are 23 years old.\n"
     ]
    }
   ],
   "source": [
    "2. How can you pass arguments to a function in Python? Explain the difference between positional arguments and keyword arguments.\n",
    "\n",
    "In function argument can be passed in two way such as positional arguments and keyword arguments.\n",
    "\n",
    "Positional Arguments:\n",
    "- Arguments are passed to a function based on their position or order. \n",
    "-The number of arguments should be same as mentioned inside the functional definition.\n",
    "Example:\n",
    "\n",
    "def employee(name, age):\n",
    "    print(\"Hello,\", name)\n",
    "    print(\"You are\", age, \"years old.\")\n",
    "employee(\"Abhisheik\", 23)\n",
    "\n",
    "\n",
    "Keyword Arguments:\n",
    "-Keyword Arguments are passed to the function using argument name followed by the values. \n",
    "-Example\n",
    "\n",
    "def employee(name, age):\n",
    "    print(\"Hello,\", name)\n",
    "    print(\"You are\", age, \"years old.\")\n",
    "employee(age=23, name=\"Abhisheik\")\n"
   ]
  },
  {
   "cell_type": "code",
   "execution_count": 8,
   "id": "ae430ab4",
   "metadata": {},
   "outputs": [
    {
     "data": {
      "text/plain": [
       "'B Grade'"
      ]
     },
     "execution_count": 8,
     "metadata": {},
     "output_type": "execute_result"
    }
   ],
   "source": [
    "3. What is the purpose of the return statement in a function? Can a function have multiple return statements? Explain with an example.\n",
    "The return statement in a function is used to specify the value that a function should return when it is called.\n",
    "A function can have multiple return statements that allows you to conditionally return different values based on certain conditions or to have different exit points within the function.\n",
    "\n",
    "Example:\n",
    "def student_grade(score):\n",
    "    if score >= 90:\n",
    "        return \"A Grade\"\n",
    "    elif score >= 80:\n",
    "        return \"B Grade\"\n",
    "    elif score >= 70:\n",
    "        return \"C Grade\"\n",
    "    else:\n",
    "        return \"D Grade\"\n",
    "\n",
    "student_grade(85)"
   ]
  },
  {
   "cell_type": "code",
   "execution_count": 7,
   "id": "aed1f767",
   "metadata": {},
   "outputs": [
    {
     "name": "stdout",
     "output_type": "stream",
     "text": [
      "Is 7 even? False\n",
      "Is 10 even? True\n"
     ]
    }
   ],
   "source": [
    "4. What are lambda functions in Python? How are they different from regular functions? Provide an example where a lambda function can be useful.\n",
    "\n",
    "Lambda functions, also known as anonymous functions or single-expression functions. They are defined using lambda keyword.\n",
    "Syntax:\n",
    "lambda arguments: expression\n",
    "\n",
    "Lambda functions:\n",
    "-Lambda functions are defined using the lambda keyword followed by the function arguments and a colon, all in a single line. \n",
    "-They are single-expression funtion to perform singlr task.\n",
    "-Lambda functions are often used as throwaway functions, primarily as arguments to other functions.\n",
    "\n",
    "Regular functions:\n",
    "-Regular functions are defined using the def keyword, followed by the function name, parentheses for arguments, a colon, and an indented block of code.\n",
    "-They can perform multiple statement which can perform complex task.\n",
    "-Regular functions, on the other hand, are typically used for reusable code blocks that can be called multiple times within a program.\n",
    "\n",
    "Example:\n",
    "is_even = lambda num: num % 2 == 0\n",
    "print(\"Is 7 even?\", is_even(7))\n",
    "print(\"Is 10 even?\", is_even(10))"
   ]
  },
  {
   "cell_type": "code",
   "execution_count": 8,
   "id": "69eec7b8",
   "metadata": {},
   "outputs": [
    {
     "name": "stdout",
     "output_type": "stream",
     "text": [
      "The sum is: 8\n",
      "Result: 8\n"
     ]
    }
   ],
   "source": [
    "5. How does the concept of \"scope\" apply to functions in Python? Explain the difference between local scope and global scope.\n",
    "\n",
    "Local Scope:\n",
    "-Variables that are defined inside a function or class are known as local scope variables. \n",
    "-Local variables can only accessed inside the function.\n",
    "-Example:\n",
    "    \n",
    "def add_numbers(a, b):\n",
    "    # Local variable\n",
    "    result = a + b\n",
    "    print(\"The sum is:\", result)\n",
    "add_numbers(3, 5)\n",
    "\n",
    "\n",
    "Global Scope:\n",
    "-Variables that are defined outside a function or class are known as global scope variables. \n",
    "-Global variables can be accessed throughout the program.\n",
    "-They are accessed using global keyword.\n",
    "-Example:\n",
    "    \n",
    "result = 0\n",
    "def add_numbers(a, b):\n",
    "    global result  # Accessing the global variable within the function\n",
    "    result = a + b\n",
    "add_numbers(5, 3)\n",
    "print(\"Result:\", result)\n"
   ]
  },
  {
   "cell_type": "code",
   "execution_count": 10,
   "id": "9dd2caf1",
   "metadata": {},
   "outputs": [
    {
     "data": {
      "text/plain": [
       "(1001, 'Abhi', 25)"
      ]
     },
     "execution_count": 10,
     "metadata": {},
     "output_type": "execute_result"
    }
   ],
   "source": [
    "6. How can you use the \"return\" statement in a Python function to return multiple values?\n",
    "The return statement in a function to return multiple values by separating them with commas.\n",
    "example:\n",
    "\n",
    "def employee(employee_id,employee_name,employee_age):\n",
    "    return employee_id,employee_name,employee_age\n",
    "\n",
    "employee(1001,\"Abhi\",25)\n"
   ]
  },
  {
   "cell_type": "code",
   "execution_count": 2,
   "id": "425edce3",
   "metadata": {},
   "outputs": [
    {
     "name": "stdout",
     "output_type": "stream",
     "text": [
      "-------Pass by value-------\n",
      "Before function call:  5\n",
      "Before update:  5\n",
      "After update:  15\n",
      "After function call:  5\n",
      "-------Pass by Reference-------\n",
      "Before function call:  [1, 2, 3]\n",
      "Before update:  [1, 2, 3]\n",
      "After update:  [1, 2, 3, 4]\n",
      "After function call:  [1, 2, 3, 4]\n"
     ]
    }
   ],
   "source": [
    "7. What is the difference between the \"pass by value\" and \"pass by reference\" concepts when it comes to function arguments in Python?\n",
    "\n",
    "Pass by value:\n",
    "In pass by value the argument passed to the function is the copy of its original object. If we change or update the value of object inside the function, then original object will not change.\n",
    "\n",
    "Pass by reference:\n",
    "In pass by reference, the argument passed to the function’s parameter is the original object. If we change the value of object inside the function, the original object will also change.\n",
    "\n",
    "#Example for pass by value and paa by reference\n",
    "\n",
    "def pass_by_value(value):\n",
    "    print(\"Before update: \", value)\n",
    "    value += 10\n",
    "    print(\"After update: \", value)\n",
    "\n",
    "def pass_by_reference(my_list):\n",
    "    print(\"Before update: \", my_list)\n",
    "    my_list.append(4)\n",
    "    print(\"After update: \", my_list)\n",
    "\n",
    "# Testing pass by value\n",
    "num = 5\n",
    "print(\"-------Pass by value-------\")\n",
    "print(\"Before function call: \", num)\n",
    "pass_by_value(num)\n",
    "print(\"After function call: \", num)\n",
    "\n",
    "# Testing pass by reference\n",
    "my_list = [1, 2, 3]\n",
    "print(\"-------Pass by Reference-------\")\n",
    "print(\"Before function call: \", my_list)\n",
    "pass_by_reference(my_list)\n",
    "print(\"After function call: \", my_list)\n"
   ]
  },
  {
   "cell_type": "code",
   "execution_count": 11,
   "id": "fa2cbd68",
   "metadata": {},
   "outputs": [
    {
     "name": "stdout",
     "output_type": "stream",
     "text": [
      "Enter the number : 7\n",
      "Logarithm of given value is: 325.0\n",
      "Exponential of given value is: 1096.6279948676925\n",
      "Power of 2 with exponent given value is: 128\n",
      "Square root of given value is: 2.6457513110645907\n"
     ]
    }
   ],
   "source": [
    "# 8. Create a function that can intake integer or decimal value and do following operations: \n",
    "#     a. Logarithmic function (log x) \n",
    "#     b. Exponential function (exp(x)) \n",
    "#     c. Power function with base 2 (2x) \n",
    "#     d. Square root\n",
    "\n",
    "def math_operations():\n",
    "    # Logarithmic function (log x)\n",
    "    x = float(input(\"Enter the number : \"))\n",
    "    logarithm = lambda x: x if x == 0 else logarithm(x/10) + 1\n",
    "    log_result = logarithm(x)\n",
    "\n",
    "    # Exponential function (exp(x))\n",
    "    exponential = lambda x: 1 if x == 0 else exponential(x-1) * 2.71828\n",
    "    exp_result = exponential(x)\n",
    "\n",
    "    # Power function with base 2 (2^x)\n",
    "    power = lambda x: 1 if x == 0 else power(x-1) * 2\n",
    "    power_result = power(x)\n",
    "\n",
    "    # Square root\n",
    "    sqrt_result = x ** 0.5\n",
    "\n",
    "    return log_result, exp_result, power_result, sqrt_result\n",
    "\n",
    "\n",
    "\n",
    "logarithm, exponential, power, sqrt = math_operations()\n",
    "\n",
    "print(f\"Logarithm of given value is: {logarithm}\")\n",
    "print(f\"Exponential of given value is: {exponential}\")\n",
    "print(f\"Power of 2 with exponent given value is: {power}\")\n",
    "print(f\"Square root of given value is: {sqrt}\")\n"
   ]
  },
  {
   "cell_type": "code",
   "execution_count": 1,
   "id": "dd6e725a",
   "metadata": {},
   "outputs": [
    {
     "name": "stdout",
     "output_type": "stream",
     "text": [
      "Enter you name: Abhisheik Sidd\n",
      "First Name: Abhisheik\n",
      "Last Name: Sidd\n"
     ]
    }
   ],
   "source": [
    "#9. Create a function that takes a full name as an argument and returns first name and last name.\n",
    "\n",
    "def get_name(full_name):\n",
    "    names = full_name.split()\n",
    "    first_name = names[0]\n",
    "    last_name = names[-1]\n",
    "    return first_name, last_name\n",
    "\n",
    "name = input(\"Enter you name: \")\n",
    "first_name, last_name = get_name(name)\n",
    "print(\"First Name:\", first_name)\n",
    "print(\"Last Name:\", last_name)"
   ]
  },
  {
   "cell_type": "code",
   "execution_count": null,
   "id": "12a56047",
   "metadata": {},
   "outputs": [],
   "source": []
  }
 ],
 "metadata": {
  "kernelspec": {
   "display_name": "Python 3 (ipykernel)",
   "language": "python",
   "name": "python3"
  },
  "language_info": {
   "codemirror_mode": {
    "name": "ipython",
    "version": 3
   },
   "file_extension": ".py",
   "mimetype": "text/x-python",
   "name": "python",
   "nbconvert_exporter": "python",
   "pygments_lexer": "ipython3",
   "version": "3.10.9"
  }
 },
 "nbformat": 4,
 "nbformat_minor": 5
}
