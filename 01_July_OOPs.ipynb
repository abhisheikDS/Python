{
 "cells": [
  {
   "cell_type": "code",
   "execution_count": null,
   "id": "31d9d9ba",
   "metadata": {},
   "outputs": [],
   "source": [
    "1. What is the primary goal of Object-Oriented Programming (OOP)?\n",
    "-Object-Oriented Programming is used for modeling real-world entities and their interactions. \n",
    "-By representing objects as classes and defining their attributes and behaviors. \n",
    "-This makes the code easier to understand, maintain and reusable of code.\n",
    "-Features of OOP in python are:    \n",
    "\n",
    "Classes and Object :\n",
    "    A class is a blueprint or template for creating objects. \n",
    "    It defines the attributes and methods that objects of that class will possess. \n",
    "    An object is an instance of a class, representing a specific real world entity based on business requirment.\n",
    "      \n",
    "Encapsulation: \n",
    "    Encapsulation is the bundling of data and methods together within a class. \n",
    "    It allows you to hide the internal details of a class and expose only the necessary information. \n",
    "    This improves code organization, security, and maintainability.\n",
    "    \n",
    "Inheritance: \n",
    "    Inheritance is a mechanism that allows you to derive new sub classes or derived classes from base or parent class. \n",
    "    Derived classes inherit the attributes and methods of the base class, and you can add or override them to suit the specific \n",
    "    requirements of the derived class. \n",
    "    Inheritance promotes reusability of code and extensibility.    \n",
    "    \n",
    "Polymorphism: \n",
    "    Polymorphism allows objects of different classes to be treated as objects of a common base class. \n",
    "    It enables you to write code that can work with objects of different types, as long as they share a common interface or \n",
    "    base class. \n",
    "    Polymorphism enhances code flexibility and modularity. \n",
    "    \n",
    "Abstraction: \n",
    "    Abstraction is the process of representing essential features of an object while hiding the irrelevant or unwanted details. \n",
    "    OOP allows you to create abstract classes that provide a common interface for derived classes. \n",
    "    Abstract classes cannot be instantiated but can be used as a base for other classes.    "
   ]
  },
  {
   "cell_type": "code",
   "execution_count": 1,
   "id": "f8b33fc3",
   "metadata": {},
   "outputs": [
    {
     "name": "stdout",
     "output_type": "stream",
     "text": [
      "Car brand name is Rolls Royce and model is Ghost.\n"
     ]
    }
   ],
   "source": [
    "2. What is an object in Python?\n",
    "An object is a specific entity that belongs to a particular class and possesses its own unique attributed (data)and behavior (method).\n",
    "An object is an instance of a class.\n",
    "\n",
    "Example:\n",
    "class Car():\n",
    "    def __init__(self,brand,model):\n",
    "        self.brand = brand\n",
    "        self.model = model\n",
    "    def display_info(self):\n",
    "        print (f\"Car brand name is {self.brand} and model is {self.model}.\")\n",
    "        \n",
    "# Creating objects/instances of the Car class\n",
    "car =  Car(\"Rolls Royce\",\"Ghost\")\n",
    "car.display_info()\n",
    "\n"
   ]
  },
  {
   "cell_type": "code",
   "execution_count": 1,
   "id": "24a3dcea",
   "metadata": {},
   "outputs": [
    {
     "name": "stdout",
     "output_type": "stream",
     "text": [
      "I am Abhisheik and my age is 23.\n"
     ]
    }
   ],
   "source": [
    "3. What is a class in Python?\n",
    "-A class is a blueprint or a template of an object.\n",
    "-It defines the attributes and methods that object of the class will possess. \n",
    "-It serves as a logical structure or container for organizing related data and behavior into a single unit.\n",
    "\n",
    "Example:\n",
    "    \n",
    "class Person:\n",
    "    def __init__(self,name,age):\n",
    "        self.name = name\n",
    "        self.age = age\n",
    "    def introduce(self):\n",
    "        print (f\"I am {self.name} and my age is {self.age}.\")\n",
    "\n",
    "person =  Person(\"Abhisheik\",23)\n",
    "person.introduce()"
   ]
  },
  {
   "cell_type": "code",
   "execution_count": 1,
   "id": "13c2a4aa",
   "metadata": {},
   "outputs": [
    {
     "name": "stdout",
     "output_type": "stream",
     "text": [
      "25\n"
     ]
    }
   ],
   "source": [
    "4. What are attributes and methods in a class?\n",
    "Attributes:\n",
    "    Attributes are the variables or data associated with a class or its objects. \n",
    "    They represent the state or characteristics of an object.\n",
    "    Attributes store data specific to each instance of a class.\n",
    "    \n",
    "Methods:\n",
    "    Methods are the functions associated with a class or its objects. \n",
    "    Methods define the operations or actions that can be performed on the data of an object. \n",
    "    Methods can perform computations, manipulate data, or interact with other objects.\n",
    "\n",
    "Example:\n",
    "\n",
    "class Square:\n",
    "    def __init__(self, area):\n",
    "        self.area = area  # Attribute\n",
    "\n",
    "    def calculate_area(self):# Method\n",
    "        return self.area**2  \n",
    "\n",
    "# Creating an object and accessing attributes and methods\n",
    "square = Square(5)  # Creating an object with are = 5\n",
    "print(square.calculate_area())  \n"
   ]
  },
  {
   "cell_type": "code",
   "execution_count": 20,
   "id": "0a89cc46",
   "metadata": {},
   "outputs": [
    {
     "name": "stdout",
     "output_type": "stream",
     "text": [
      "Book1\n",
      "Author2\n",
      "No of Books : 2\n"
     ]
    }
   ],
   "source": [
    "5. What is the difference between class variables and instance variables in Python?\n",
    "\n",
    "Class Variables:\n",
    "    Class variables are defined within the class but outside any methods. \n",
    "    They are accessible to all instances of the class as well as the class itself. \n",
    "    Class variables are allocated memory only once when the class is defined. \n",
    "    Class variables are shared among all instances of the class, meaning any modification to the class variable will affect \n",
    "    all instances.\n",
    "    \n",
    "Instance variables:\n",
    "    Instance variables are defined within methods or the __init__ constructor method of a class. \n",
    "    They are unique to each instance of the class and can have different values for different instances. \n",
    "    Instance variables are accessed and modified through the individual instances of the class.\n",
    "    Instance variables are allocated memory separately for each instance of the class.\n",
    "    \n",
    "Example:\n",
    "class Book:\n",
    "    book_count = 0 #class variable\n",
    "    \n",
    "    def __init__(self,title,author): #Instance variable\n",
    "        self.title = title\n",
    "        self.author = author\n",
    "        Book.book_count += 1 # Accessing and modifying class variable\n",
    "#     def display_info(self):\n",
    "#         print (\"{} is a book written by {}.\".format(self.title,self.author))\n",
    "        \n",
    "   \n",
    "\n",
    "book =  Book(\"Book1\",\"Author1\")\n",
    "book1 =  Book(\"Book2\",\"Author2\")\n",
    "print(book.title)\n",
    "print(book1.author)\n",
    "print(\"No of Books :\", Book.book_count )"
   ]
  },
  {
   "cell_type": "code",
   "execution_count": 21,
   "id": "20204185",
   "metadata": {},
   "outputs": [
    {
     "name": "stdout",
     "output_type": "stream",
     "text": [
      "Mobile brand is Redmi and model of the phone is Note11 pro plus5g.\n",
      "Making a call from Redmi Note11 pro plus5g.\n"
     ]
    }
   ],
   "source": [
    "6. What is the purpose of the self parameter in Python class methods?\n",
    "Self parameter is used to refer to the current instance of the class. \n",
    "It allows methods to access and operate on the specific instance variables and other attributes of the object. \n",
    "The self parameter helps distinguish between instance variables and local variables within a method.\n",
    "Inside a class method, the self parameter allows you to access and modify instance variables defined in the class. \n",
    "\n",
    "Example:\n",
    "class MobilePhone:\n",
    "    def __init__(self,brand,model):\n",
    "        self.brand = brand\n",
    "        self.model = model\n",
    "    def make_call(self):\n",
    "        print (\"Mobile brand is {} and model of the phone is {}.\".format(self.brand,self.model))\n",
    "        print (\"Making a call from {} {}.\".format(self.brand,self.model))\n",
    "mobilePhone =  MobilePhone(\"Redmi\",\"Note11 pro plus5g\")\n",
    "mobilePhone.make_call()"
   ]
  },
  {
   "cell_type": "code",
   "execution_count": 38,
   "id": "b0864a8f",
   "metadata": {},
   "outputs": [
    {
     "name": "stdout",
     "output_type": "stream",
     "text": [
      "Data Science was witten by John in the year of 2010.\n",
      "The ISBN number is 54231689. \n",
      "No of Available copies : 5\n",
      "Book CheckOut done\n",
      "Data Science was witten by John in the year of 2010.\n",
      "The ISBN number is 54231689. \n",
      "No of Available copies : 4\n",
      "Book Returned\n",
      "Data Science was witten by John in the year of 2010.\n",
      "The ISBN number is 54231689. \n",
      "No of Available copies : 5\n"
     ]
    }
   ],
   "source": [
    "# 7. For a library management system, you have to design the \"Book\" class with OOP principles in mind. \n",
    "# The “Book” class will have following attributes: \n",
    "#     a. title: Represents the title of the book. \n",
    "#     b. author: Represents the author(s) of the book. \n",
    "#     c. isbn: Represents the ISBN (International Standard Book Number) of the book. \n",
    "#     d. publication_year: Represents the year of publication of the book. \n",
    "#     e. available_copies: Represents the number of copies available for checkout.\n",
    "# The class will also include the following methods: \n",
    "#     a. check_out(self): Decrements the available copies by one if there are copies available for checkout. \n",
    "#     b. return_book(self): Increments the available copies by one when a book is returned. \n",
    "#     c. display_book_info(self): Displays the information about the book, including its attributes and \n",
    "#         the number of available copies.\n",
    "        \n",
    "class Book:\n",
    "    def __init__(self,title,author,isbn,publication_year,available_copies):\n",
    "        self.title = title\n",
    "        self.author = author\n",
    "        self.isbn = isbn\n",
    "        self.publication_year = publication_year\n",
    "        self.available_copies = available_copies\n",
    "        \n",
    "    def check_out(self):\n",
    "        if self.available_copies > 0:\n",
    "            self.available_copies -= 1\n",
    "            print('Book CheckOut done')\n",
    "        else:\n",
    "            print(\"No available copies\")\n",
    "              \n",
    "    def return_book(self):\n",
    "        print('Book Returned')\n",
    "        self.available_copies += 1\n",
    "            \n",
    "    def display_book_info(self):\n",
    "        print(f\"{self.title} was witten by {self.author} in the year of {self.publication_year}.\\nThe ISBN number is {self.isbn}. \\nNo of Available copies : { self.available_copies}\")\n",
    "        \n",
    "book = Book(\"Data Science\", \"John\", 54231689, 2010, 5) \n",
    "book.display_book_info()\n",
    "book.check_out()\n",
    "book.display_book_info()\n",
    "book.return_book()\n",
    "book.display_book_info()"
   ]
  },
  {
   "cell_type": "code",
   "execution_count": 48,
   "id": "d8a25638",
   "metadata": {},
   "outputs": [
    {
     "name": "stdout",
     "output_type": "stream",
     "text": [
      "Ticket booked with Id 12345 for event name Singing Concert on 7-8-2023 at Chennai.        \n",
      "Seat No : 10 and Total Price : 2000. \n",
      "Reservation Status: Not Reserved\n",
      "Reservation Successful\n",
      "Ticket booked with Id 12345 for event name Singing Concert on 7-8-2023 at Chennai.        \n",
      "Seat No : 10 and Total Price : 2000. \n",
      "Reservation Status: Reserved\n",
      "Reservation Cancelled\n",
      "Ticket booked with Id 12345 for event name Singing Concert on 7-8-2023 at Chennai.        \n",
      "Seat No : 10 and Total Price : 2000. \n",
      "Reservation Status: Not Reserved\n"
     ]
    }
   ],
   "source": [
    "# 8. For a ticket booking system, you have to design the \"Ticket\" class with OOP principles in mind. \n",
    "# The “Ticket” class should have the following attributes: \n",
    "#     a. ticket_id: Represents the unique identifier for the ticket. \n",
    "#     b. event_name: Represents the name of the event. \n",
    "#     c. event_date: Represents the date of the event. \n",
    "#     d. venue: Represents the venue of the event. \n",
    "#     e. seat_number: Represents the seat number associated with the ticket. \n",
    "#     f. price: Represents the price of the ticket. \n",
    "#     g. is_reserved: Represents the reservation status of the ticket. \n",
    "# The class also includes the following methods: \n",
    "#     a. reserve_ticket(self): Marks the ticket as reserved if it is not already reserved. \n",
    "#     b. cancel_reservation(self): Cancels the reservation of the ticket if it is already reserved. \n",
    "#     c. display_ticket_info(self): Displays the information about the ticket, including its attributes and reservation status.\n",
    "       \n",
    "class Ticket:\n",
    "    def __init__(self,ticket_id,event_name,event_date,venue,seat_number,price,is_reserved):\n",
    "        self.ticket_id = ticket_id\n",
    "        self.event_name = event_name\n",
    "        self.event_date = event_date\n",
    "        self.venue = venue\n",
    "        self.seat_number = seat_number\n",
    "        self.price = price\n",
    "        self.is_reserved = is_reserved\n",
    "        \n",
    "    def reserve_ticket(self):\n",
    "        if not self.is_reserved:\n",
    "            self.is_reserved = True\n",
    "            print('Reservation Successful')\n",
    "        else:\n",
    "            print('Ticket is already Reserved')\n",
    "              \n",
    "    def cancel_reservation(self):\n",
    "        if self.is_reserved:\n",
    "            print('Reservation Cancelled')\n",
    "            self.is_reserved = False\n",
    "        else:\n",
    "            print('Ticket is not Reserved')\n",
    "            \n",
    "    def display_ticket_info(self):\n",
    "        reservation_status = \"Reserved\" if self.is_reserved == True else \"Not Reserved\"\n",
    "        print(f\"Ticket booked with Id {self.ticket_id} for event name {self.event_name} on {self.event_date} at {self.venue}.\\\n",
    "        \\nSeat No : {self.seat_number} and Total Price : {self.price}. \\nReservation Status: {reservation_status}\")\n",
    "        \n",
    "ticket = Ticket(12345, \"Singing Concert\", \"7-8-2023\" , \"Chennai\", 10, 2000, False) \n",
    "ticket.display_ticket_info()\n",
    "ticket.reserve_ticket()\n",
    "ticket.display_ticket_info()\n",
    "ticket.cancel_reservation()\n",
    "ticket.display_ticket_info()\n",
    "    "
   ]
  },
  {
   "cell_type": "code",
   "execution_count": 58,
   "id": "0569ad25",
   "metadata": {},
   "outputs": [
    {
     "name": "stdout",
     "output_type": "stream",
     "text": [
      "Enter Item name : Mobile Phone\n",
      "Mobile Phone added successfully to the cart\n",
      "Enter Item name : Laptop\n",
      "Laptop added successfully to the cart\n",
      "Enter Item name : Ear Phone\n",
      "Ear Phone added successfully to the cart\n",
      "Cart Items are :  ['Mobile Phone', 'Laptop', 'Ear Phone']\n",
      "Enter Item to be removed : Laptop\n",
      "Laptop removed successfully from the cart\n",
      "Cart Items are :  ['Mobile Phone', 'Ear Phone']\n",
      "Your shopping cart is empty []\n",
      "No Items added in the Cart\n"
     ]
    }
   ],
   "source": [
    "# 9. You are creating a shopping cart for an e-commerce website. \n",
    "# Using OOP to model the \"ShoppingCart\" functionality the class should contain following attributes and methods: \n",
    "#     a. items: Represents the list of items in the shopping cart. The class also includes the following methods:\n",
    "#     a. add_item(self, item): Adds an item to the shopping cart by appending it to the list of items. \n",
    "#     b. remove_item(self, item): Removes an item from the shopping cart if it exists in the list. \n",
    "#     c. view_cart(self): Displays the items currently present in the shopping cart. \n",
    "#     d. clear_cart(self): Clears all items from the shopping cart by reassigning an empty list to the items attribute.\n",
    "        \n",
    "class ShoppingCart:\n",
    "    def __init__(self):\n",
    "        self.items =[]\n",
    "    \n",
    "    def add_item(self,item):\n",
    "        \n",
    "        self.items.append(item)\n",
    "        print(f\"{item} added successfully to the cart\")\n",
    "       \n",
    "    def remove_item(self,item):\n",
    "        self.items.remove(item)\n",
    "        print(f\"{item} removed successfully from the cart\")\n",
    "  \n",
    "    def view_cart(self):\n",
    "        if len(self.items) > 0:\n",
    "            print(\"Cart Items are : \", self.items)\n",
    "        else:\n",
    "            print(\"No Items added in the Cart\")\n",
    "    def clear_cart(self):\n",
    "        self.items.clear()\n",
    "        print(f\"Your shopping cart is empty {self.items}\")\n",
    "        \n",
    "shopping_cart = ShoppingCart()\n",
    "shopping_cart.add_item(input(\"Enter Item name : \"))\n",
    "shopping_cart.add_item(input(\"Enter Item name : \"))\n",
    "shopping_cart.add_item(input(\"Enter Item name : \"))\n",
    "shopping_cart.view_cart()\n",
    "shopping_cart.remove_item(input(\"Enter Item to be removed : \"))\n",
    "shopping_cart.view_cart()\n",
    "shopping_cart.clear_cart()\n",
    "shopping_cart.view_cart()"
   ]
  },
  {
   "cell_type": "code",
   "execution_count": 99,
   "id": "b05a9415",
   "metadata": {},
   "outputs": [
    {
     "name": "stdout",
     "output_type": "stream",
     "text": [
      "Attendance for student ID 2001 for 2023-07-01 updated successfully \n",
      "Attendance for student ID 2001 for 2023-07-02 updated successfully \n",
      "Attendance for student ID 2001 for 2023-07-03 updated successfully \n",
      "Attendance record of the student ID : 2001 \n",
      "2023-07-01 : present\n",
      "2023-07-02 : absent\n",
      "2023-07-03 : present\n",
      "Average Attendance of the Student ID 2001 is : 66.67.\n"
     ]
    }
   ],
   "source": [
    "# 10. Imagine a school management system. You have to design the \"Student\" class using OOP concepts.\n",
    "# The “Student” class has the following attributes: \n",
    "#     a. name: Represents the name of the student. \n",
    "#     b. age: Represents the age of the student. \n",
    "#     c. grade: Represents the grade or class of the student. \n",
    "#     d. student_id: Represents the unique identifier for the student. \n",
    "#     e. attendance: Represents the attendance record of the student. \n",
    "# The class should also include the following methods: \n",
    "#     a. update_attendance(self, date, status): \n",
    "#         Updates the attendance record of the student for a given date with the provided status (e.g., present or absent). \n",
    "#     b. get_attendance(self): Returns the attendance record of the student. \n",
    "#     c. get_average_attendance(self): Calculates and returns the average attendance percentage of the student based on their attendance record.\n",
    "        \n",
    "class Student:\n",
    "    def __init__(self,name,age,grade,student_id):\n",
    "        self.name = name\n",
    "        self.age = age\n",
    "        self.grade = grade\n",
    "        self.student_id = student_id\n",
    "        self.attendance = {}\n",
    "        \n",
    "    def update_attendance(self, date, status): \n",
    "        self.attendance[date]=status\n",
    "        print(f\"Attendance for student ID {self.student_id} for {date} updated successfully \")\n",
    "        \n",
    "    \n",
    "    def get_attendance(self):\n",
    "        print(f\"Attendance record of the student ID : {self.student_id} \")\n",
    "        for i in self.attendance:\n",
    "            print(i,\":\",self.attendance[i])\n",
    "           \n",
    "    def get_average_attendance(self): \n",
    "        total_no_days = len(self.attendance)\n",
    "        present_status = sum(status == 'present' for status in self.attendance.values())\n",
    "        if total_no_days == 0:\n",
    "            #print(\"No Attendance record found for student ID : {self.student_id}\")\n",
    "            return 0\n",
    "        else:\n",
    "            attendance_percentage = (present_status / total_no_days) * 100\n",
    "            print(\"Average Attendance of the Student ID {} is : {:.2f}.\".format(self.student_id,average_attendance) )\n",
    "        \n",
    "student = Student(\"Abhi\",23,'A',2001)\n",
    "student.update_attendance(\"2023-07-01\", \"present\")\n",
    "student.update_attendance(\"2023-07-02\", \"absent\")\n",
    "student.update_attendance(\"2023-07-03\", \"present\")\n",
    "student.get_attendance()\n",
    "student.get_average_attendance()"
   ]
  },
  {
   "cell_type": "code",
   "execution_count": null,
   "id": "9639b82e",
   "metadata": {},
   "outputs": [],
   "source": []
  }
 ],
 "metadata": {
  "kernelspec": {
   "display_name": "Python 3 (ipykernel)",
   "language": "python",
   "name": "python3"
  },
  "language_info": {
   "codemirror_mode": {
    "name": "ipython",
    "version": 3
   },
   "file_extension": ".py",
   "mimetype": "text/x-python",
   "name": "python",
   "nbconvert_exporter": "python",
   "pygments_lexer": "ipython3",
   "version": "3.10.9"
  }
 },
 "nbformat": 4,
 "nbformat_minor": 5
}
