{
 "cells": [
  {
   "cell_type": "code",
   "execution_count": null,
   "id": "a652f6f2",
   "metadata": {},
   "outputs": [],
   "source": [
    "# 1. In the below elements which of them are values or an expression? eg:- values can be integer or string and expressions will be mathematical operators.\n",
    "* \n",
    "'hello'\n",
    "-87.8\n",
    "- \n",
    "/ \n",
    "6 \n",
    "\n",
    "Values : 'hello', -87.8, 6\n",
    "Expression : *, -, /"
   ]
  },
  {
   "cell_type": "markdown",
   "id": "5a7534fb",
   "metadata": {},
   "source": [
    "2. What is the difference between string and variable?\n",
    "\n",
    "String:\n",
    "A string is a data type that contains a sequence of characters.It enclosed in single quotes ('') or double quotes (\"\"). \n",
    "It can be letters, numbers, symbols, and whitespace. \n",
    "For example:\n",
    "    string1 = \"Abhisheik\"\n",
    "    string2 = \"123\"\n",
    "    \n",
    "Variable:\n",
    "Variables are used to store values.Variable names are case-sensitive.\n",
    "A variable name must start with a letter or underscore.It can contain letters, numbers, and underscores.\n",
    "Example:\n",
    "    str_int = 8765\n",
    "    str_char = 'Abhisheik'\n",
    "\n"
   ]
  },
  {
   "cell_type": "markdown",
   "id": "68dbef7b",
   "metadata": {},
   "source": [
    "3. Describe three different data types.\n",
    "\n",
    "Python has several built-in data types that are used to represent different kinds of values. Here are some commonly used data types in Python:\n",
    "\n",
    "Numeric Types:\n",
    "   int: Represents integers (whole numbers)\n",
    "       Example:  5, -3, 0.\n",
    "   float: Represents floating-point numbers (real numbers)\n",
    "       Example: 3.14, -2.5, 0.0.\n",
    "   \n",
    "Sequence Types:\n",
    "   str: Represents a string of characters.\n",
    "        Example: \"Hello\", 'World'.\n",
    "   list: Represents an ordered collection of items, enclosed in square brackets ([]). \n",
    "       Example: lis= [1,2,'Abhisheik']\n",
    "   tuple: Represents an ordered, immutable collection of items, enclosed in parentheses (()).\n",
    "       Example: t= (1, 2, 3).\n",
    "\n",
    "Mapping Type:\n",
    "   dict: Represents a collection of key-value pairs, enclosed in curly braces ({}).\n",
    "       Example: dic= {\"name\": \"John\", \"age\": 25}.\n",
    "\n",
    "Set Types:\n",
    "   set: Represents an unordered collection of unique elements, enclosed in curly braces ({}).\n",
    "       Example: set1= {1, 2, 3}.\n",
    "   \n",
    "Boolean Type:\n",
    "    bool: Represents a boolean value, which can be either True or False.   \n"
   ]
  },
  {
   "cell_type": "markdown",
   "id": "2d967d59",
   "metadata": {},
   "source": [
    "4. What is an expression made up of? What do all expressions do?\n",
    "  An expression is made up of one or more operands and operators.It combines values and operators to produce a new value.\n",
    "  Operands : literals, variables, or function calls. \n",
    "  Operators define the operations to be performed on the operands.\n",
    "  Expression are used to perform operations.\n",
    "  \n",
    "  Example:\n",
    "  a = 1+2 #expression with addition operator\n",
    "  "
   ]
  },
  {
   "cell_type": "markdown",
   "id": "98898525",
   "metadata": {},
   "source": [
    "5. This assignment statements, like spam = 10. What is the difference between an expression and a statement?\n",
    "\n",
    "Expression : \n",
    "  Expression are used to perform operations. It contains one or more operands and operators.\n",
    "  Example:\n",
    "  a = 1+2 #expression with addition operator\n",
    "  \n",
    "Statement:\n",
    "   A statement is a complete instruction or command that performs an action. \n",
    "   It represents a complete line of code that Python can execute. \n",
    "   Statements are used to control the flow of execution, define behavior, or manipulate data in a program.\n",
    "   Example: \n",
    "   spam = 10 --> Assignment statement\n"
   ]
  },
  {
   "cell_type": "markdown",
   "id": "b04c0089",
   "metadata": {},
   "source": [
    "6. After running the following code, what does the variable bacon contain?\n",
    "bacon = 22\n",
    "bacon + 1\n",
    "\n",
    "The variable bacon contain value : 23"
   ]
  },
  {
   "cell_type": "code",
   "execution_count": 1,
   "id": "8aaec992",
   "metadata": {},
   "outputs": [
    {
     "data": {
      "text/plain": [
       "23"
      ]
     },
     "execution_count": 1,
     "metadata": {},
     "output_type": "execute_result"
    }
   ],
   "source": [
    "bacon = 22\n",
    "bacon + 1"
   ]
  },
  {
   "cell_type": "markdown",
   "id": "8649b3e1",
   "metadata": {},
   "source": [
    "7. What should the values of the following two terms be?\n",
    "'spam' + 'spamspam'\n",
    "'spam' * 3\n",
    "The values of the both terms is : 'spamspamspam'"
   ]
  },
  {
   "cell_type": "markdown",
   "id": "7f58ee9d",
   "metadata": {},
   "source": [
    "8. Why is eggs a valid variable name while 100 is invalid?\n",
    "Variable eggs is valid because it starts with alphabet. \n",
    "Variable 100 is invalid because it start with numeric.\n"
   ]
  },
  {
   "cell_type": "code",
   "execution_count": 8,
   "id": "270c58ea",
   "metadata": {},
   "outputs": [
    {
     "name": "stdout",
     "output_type": "stream",
     "text": [
      "1.0\n",
      "1\n",
      "1234\n"
     ]
    }
   ],
   "source": [
    "# 9. What three functions can be used to get the integer, floating-point number, or string version of a value?\n",
    "\n",
    "# To get float using float function\n",
    "a=1\n",
    "b=float(a)\n",
    "print(b)\n",
    "\n",
    "# To get int using int function\n",
    "\n",
    "a=1.35\n",
    "b=int(a)\n",
    "print(b)\n",
    "\n",
    "\n",
    "# To get str using string function\n",
    "\n",
    "a=1234\n",
    "b=str(a)\n",
    "print(b)\n"
   ]
  },
  {
   "cell_type": "code",
   "execution_count": 10,
   "id": "255d0607",
   "metadata": {},
   "outputs": [
    {
     "data": {
      "text/plain": [
       "'I have eaten 99 burritos.'"
      ]
     },
     "execution_count": 10,
     "metadata": {},
     "output_type": "execute_result"
    }
   ],
   "source": [
    "#10. Why does this expression cause an error? How can you fix it?\n",
    "'I have eaten ' + 99 + ' burritos.'\n",
    "\n",
    "In above expression, string cannot concatenate with integer.\n",
    "Fix:\n",
    "    'I have eaten ' + '99' + ' burritos.'\n",
    "    'I have eaten ' + str(99) + ' burritos.'"
   ]
  },
  {
   "cell_type": "code",
   "execution_count": null,
   "id": "1dec46bb",
   "metadata": {},
   "outputs": [],
   "source": []
  }
 ],
 "metadata": {
  "kernelspec": {
   "display_name": "Python 3 (ipykernel)",
   "language": "python",
   "name": "python3"
  },
  "language_info": {
   "codemirror_mode": {
    "name": "ipython",
    "version": 3
   },
   "file_extension": ".py",
   "mimetype": "text/x-python",
   "name": "python",
   "nbconvert_exporter": "python",
   "pygments_lexer": "ipython3",
   "version": "3.10.9"
  }
 },
 "nbformat": 4,
 "nbformat_minor": 5
}
