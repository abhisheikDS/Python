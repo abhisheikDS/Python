{
 "cells": [
  {
   "cell_type": "markdown",
   "id": "3f6dee84",
   "metadata": {},
   "source": [
    "1. What are keywords in python? Using the keyword library, print all the python keywords.\n",
    "\n",
    "Keywords are reserved word that have predefined meanings and are used to define the syntax.\n"
   ]
  },
  {
   "cell_type": "code",
   "execution_count": null,
   "id": "28c82f58",
   "metadata": {},
   "outputs": [],
   "source": [
    "# To print all the python keywords\n",
    "import keyword\n",
    "\n",
    "print(keyword.kwlist)"
   ]
  },
  {
   "cell_type": "code",
   "execution_count": null,
   "id": "692ec32c",
   "metadata": {},
   "outputs": [],
   "source": [
    "2. What are the rules to create variables in python?\n",
    "Variable names are case-sensitive.\n",
    "A variable name must start with a letter or underscore but should not start with numeric values.\n",
    "It can contain letters, numbers, and underscores.\n",
    "Variables should have meaningful name.\n",
    "Example: variable = 'Abhisheik\"'"
   ]
  },
  {
   "cell_type": "code",
   "execution_count": null,
   "id": "38c3c4c1",
   "metadata": {},
   "outputs": [],
   "source": [
    "3. What are the standards and conventions followed for the nomenclature of variables in\n",
    "python to improve code readability and maintainability?\n",
    "\n",
    "1. Variable names should be descriptive and reflect the purpose or meaning of the variable. \n",
    "    Example: user_name =\"Abhisheik\"\n",
    "\n",
    "2. Variable names should be written in all lowercase letters, with words separated by underscores. This convention is known as snake_case. \n",
    "    For example, use \"user_name\" instead of \"userName\" or \"UserName.\"\n",
    "\n",
    "3. Do not use reserved keywords or built-in function names as variable names, as they have special meanings in Python.\n",
    "    For example, avoid using names like \"print,\" \"list,\" or \"str\" as variable names.\n",
    "\n",
    "4. Choose names that accurately describe the variable's purpose but also keep them concise. \n",
    "\n",
    "5. Maintain consistency in naming conventions throughout your codebase. Consistency helps maintain readability and reduces confusion.\n",
    "\n",
    "6. If you have constants in your code, use all capital letters with underscores to separate words. \n",
    "    For example, use \"MAX_SIZE\" instead of \"max_size.\"\n",
    "\n",
    "7. Use meaningful variable prefixes or suffixes: \n",
    "    For example, you could use \"is_\" prefix for boolean variables to indicate they represent a condition.\n",
    "\n",
    "8.  Make sure your names are unambiguous. \n",
    "    For example, using variables like \"l\" (lowercase L) can be confusing when mixed with the numbers \"1\". \n",
    "   \n"
   ]
  },
  {
   "cell_type": "code",
   "execution_count": null,
   "id": "2f5cbdf9",
   "metadata": {},
   "outputs": [],
   "source": [
    "# 4. What will happen if a keyword is used as a variable name?\n",
    "   If a keyword is used as a variable name it will through a syntax error.\n",
    "Example:\n",
    "if = 10"
   ]
  },
  {
   "cell_type": "code",
   "execution_count": null,
   "id": "271386c2",
   "metadata": {},
   "outputs": [],
   "source": [
    "5. For what purpose def keyword is used?\n",
    "The def keyword in Python is used to define a function."
   ]
  },
  {
   "cell_type": "code",
   "execution_count": null,
   "id": "92b66b7e",
   "metadata": {},
   "outputs": [],
   "source": [
    "6. What is the operation of this special character ‘\\’?\n",
    "The backslash '\\' can be used to continue a logical line of code onto the next physical line.\n",
    "Example:\n",
    "x= 10+2+30 \\\n",
    "    +40+5 \\\n",
    "    +1+5\n",
    "print(x) # output: 93"
   ]
  },
  {
   "cell_type": "code",
   "execution_count": null,
   "id": "be1c8072",
   "metadata": {},
   "outputs": [],
   "source": [
    "7. Give an example of the following conditions:\n",
    "(i) Homogeneous list \n",
    "    l1=['hello','hi']\n",
    "    \n",
    "(ii) Heterogeneous set\n",
    "    set1 = {1,'hello',37.5,[1,2,3],(1,2,3)}\n",
    "    \n",
    "(iii) Homogeneous tuple\n",
    "    t=(1,2,3,4,5)\n"
   ]
  },
  {
   "cell_type": "markdown",
   "id": "e5b5ebb8",
   "metadata": {},
   "source": [
    "8. Explain the mutable and immutable data types with proper explanation & examples.\n",
    "\n",
    "Mutable data type:\n",
    "    Mutable data types are those whose values can be modified after they are created. Mutable data types in Python include lists, dictionaries, and sets."
   ]
  },
  {
   "cell_type": "code",
   "execution_count": null,
   "id": "83cd2621",
   "metadata": {},
   "outputs": [],
   "source": [
    "my_list = [1, 2, 3]\n",
    "my_list[0] = 10  # updated new value at index 0\n",
    "print(my_list) \n",
    "\n",
    "my_dict = {\"name\": \"John\", \"age\": 25}\n",
    "my_dict[\"age\"] = 26  # Modify the value associated with the key \"age\"\n",
    "print(my_dict)\n",
    "\n",
    "my_set = {1,2,3}\n",
    "my_set.add(4) # updated new value at index 1\n",
    "print(my_set)"
   ]
  },
  {
   "cell_type": "code",
   "execution_count": null,
   "id": "7e37f5de",
   "metadata": {},
   "outputs": [],
   "source": [
    "Immutable Data Types:\n",
    "    Immutable data types are those whose values cannot be changed after they are created. \n",
    "If you attempt to modify an immutable object, a new object is created with the updated value. \n",
    "It include numbers (integers, floats), strings, and tuples.\n",
    "\n",
    "Examples:\n",
    "\n",
    "x = 5 # Create a new integer \n",
    "x = x + 1  # Create a new integer object with the updated value\n",
    "print(x)  # Output: 6\n",
    "\n",
    "# Data type - String\n",
    "message = \"Hello\"\n",
    "message = message + \", World!\"  # Create a new string object by concatenation\n",
    "print(message)  # Output: Hello, World!\n",
    "\n",
    "# Data type - Tuple\n",
    "my_tuple = (1, 2, 3)\n",
    "# Attempting to modify the tuple will result in an error\n",
    "my_tuple[0] = 10  # Raises a TypeError: 'tuple' object does not support item assignment\n",
    "\n",
    "\n"
   ]
  },
  {
   "cell_type": "code",
   "execution_count": null,
   "id": "644ef7a5",
   "metadata": {},
   "outputs": [],
   "source": [
    " # 9. Write a code to create the given structure using only for loop.\n",
    "    \n",
    "n=5\n",
    "for i in range(n):\n",
    "    for j in range(n-i):\n",
    "        print(\" \", end='')\n",
    "    for j in range(i):\n",
    "        print(\"*\",end='')\n",
    "    for j in range(i+1):\n",
    "        print(\"*\",end='')\n",
    "    print()        "
   ]
  },
  {
   "cell_type": "code",
   "execution_count": 1,
   "id": "a1230dbf",
   "metadata": {},
   "outputs": [
    {
     "name": "stdout",
     "output_type": "stream",
     "text": [
      "|||||||||\n",
      " |||||||\n",
      "  |||||\n",
      "   |||\n",
      "    |\n"
     ]
    }
   ],
   "source": [
    "# 10. Write a code to create the given structure using while loop.\n",
    "i=0\n",
    "n=9\n",
    "while(i<5):\n",
    "    for j in range(i):\n",
    "        print(\" \",end='')\n",
    "    for j in range(i,n-i):\n",
    "        print(\"|\", end='')\n",
    "    print()    \n",
    "    i+=1"
   ]
  },
  {
   "cell_type": "code",
   "execution_count": 4,
   "id": "d8e6526c",
   "metadata": {},
   "outputs": [
    {
     "name": "stdout",
     "output_type": "stream",
     "text": [
      "|||||||||\n",
      " |||||||\n",
      "  |||||\n",
      "   |||\n",
      "    |\n"
     ]
    }
   ],
   "source": [
    "i = 1\n",
    "n=5\n",
    "while i <= n:\n",
    "    print(\" \" * (i - 1), end=\"\")\n",
    "    print(\"|\" *(n+1- i) + \"|\" *(n - i))\n",
    "    \n",
    "    i += 1"
   ]
  },
  {
   "cell_type": "code",
   "execution_count": 10,
   "id": "8b008ea4",
   "metadata": {},
   "outputs": [
    {
     "name": "stdout",
     "output_type": "stream",
     "text": [
      " |||||||||\n",
      "  |||||||\n",
      "   |||||\n",
      "    |||\n",
      "     |\n",
      "      \n"
     ]
    }
   ],
   "source": [
    "i=0\n",
    "n=5\n",
    "while i<=n:\n",
    "    j=0\n",
    "    while j<(i+1):\n",
    "        print(\" \",end='')\n",
    "        j+=1\n",
    "    k=1\n",
    "    while k<(2*(n-i)):\n",
    "        print(\"|\",end='')\n",
    "        k+=1\n",
    "    i+=1\n",
    "    print()"
   ]
  },
  {
   "cell_type": "code",
   "execution_count": null,
   "id": "3ef2f722",
   "metadata": {},
   "outputs": [],
   "source": []
  }
 ],
 "metadata": {
  "kernelspec": {
   "display_name": "Python 3 (ipykernel)",
   "language": "python",
   "name": "python3"
  },
  "language_info": {
   "codemirror_mode": {
    "name": "ipython",
    "version": 3
   },
   "file_extension": ".py",
   "mimetype": "text/x-python",
   "name": "python",
   "nbconvert_exporter": "python",
   "pygments_lexer": "ipython3",
   "version": "3.10.9"
  }
 },
 "nbformat": 4,
 "nbformat_minor": 5
}
