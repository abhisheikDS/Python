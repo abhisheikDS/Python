{
 "cells": [
  {
   "cell_type": "code",
   "execution_count": 7,
   "id": "408e6c2f",
   "metadata": {},
   "outputs": [
    {
     "name": "stdout",
     "output_type": "stream",
     "text": [
      "<class 'bool'>\n",
      "True False\n"
     ]
    }
   ],
   "source": [
    "# 1.What are the two values of the Boolean data type? How do you write them?\n",
    "\n",
    "The two values of boolean data type are True and False\n",
    "Example:\n",
    "boolean1 = True\n",
    "boolean2 = False\n",
    "print(type(boolean1))\n",
    "print (boolean1, boolean2)"
   ]
  },
  {
   "cell_type": "markdown",
   "id": "70599075",
   "metadata": {},
   "source": [
    " 2. What are the three different types of Boolean operators?\n",
    "\n",
    "The three different types of boolean operators are and, or, not.\n",
    "And Operator:\n",
    "    x = 1\n",
    "    y = 10\n",
    "\n",
    "    print(x > 0 and y < 20)  # Output: True\n",
    "    print(x > 0 and y > 20)  # Output: False\n",
    "\n",
    "OR Operator:\n",
    "    x = 1\n",
    "    y = 10\n",
    "\n",
    "    print(x > 0 or y < 20)  # Output: True\n",
    "    print(x < 0 or y < 20)  # Output: True\n",
    "    print(x < 0 or y > 20)  # Output: False\n",
    "\n",
    "NOT operator:\n",
    "    x = True\n",
    "    y = False\n",
    "\n",
    "    print(not x)  # Output: False\n",
    "    print(not y)  # Output: True\n"
   ]
  },
  {
   "cell_type": "code",
   "execution_count": null,
   "id": "af8bebd3",
   "metadata": {},
   "outputs": [],
   "source": [
    "3. Make a list of each Boolean operator's truth tables (i.e. every possible combination of Boolean\n",
    "values for the operator and what it evaluate ).\n",
    "\n",
    "Logical AND operator:\n",
    "    True and True = True\n",
    "    True and False = False\n",
    "    False and False = False\n",
    "    False and True = False\n",
    "    \n",
    "Logical OR Operator:\n",
    "    True or True = True\n",
    "    True or False = True\n",
    "    False or False = False\n",
    "    False or True = True\n",
    "    \n",
    "Logical NOT Operator:\n",
    "    not(True) = False\n",
    "    not(False) = True"
   ]
  },
  {
   "cell_type": "code",
   "execution_count": 8,
   "id": "f8b2502a",
   "metadata": {},
   "outputs": [
    {
     "data": {
      "text/plain": [
       "True"
      ]
     },
     "execution_count": 8,
     "metadata": {},
     "output_type": "execute_result"
    }
   ],
   "source": [
    "# 4. What are the values of the following expressions?\n",
    "(5 > 4) and (3 == 5) # False\n",
    "not (5 > 4) # False\n",
    "(5 > 4) or (3 == 5) # True\n",
    "not ((5 > 4) or (3 == 5)) # False\n",
    "(True and True) and (True == False) # False\n",
    "(not False) or (not True) # True"
   ]
  },
  {
   "cell_type": "code",
   "execution_count": 9,
   "id": "97856ac6",
   "metadata": {},
   "outputs": [
    {
     "data": {
      "text/plain": [
       "False"
      ]
     },
     "execution_count": 9,
     "metadata": {},
     "output_type": "execute_result"
    }
   ],
   "source": [
    "(5 > 4) and (3 == 5)"
   ]
  },
  {
   "cell_type": "code",
   "execution_count": 10,
   "id": "69e010ac",
   "metadata": {},
   "outputs": [
    {
     "data": {
      "text/plain": [
       "False"
      ]
     },
     "execution_count": 10,
     "metadata": {},
     "output_type": "execute_result"
    }
   ],
   "source": [
    "not (5 > 4)"
   ]
  },
  {
   "cell_type": "code",
   "execution_count": 11,
   "id": "0edf0cdf",
   "metadata": {},
   "outputs": [
    {
     "data": {
      "text/plain": [
       "True"
      ]
     },
     "execution_count": 11,
     "metadata": {},
     "output_type": "execute_result"
    }
   ],
   "source": [
    "(5 > 4) or (3 == 5)"
   ]
  },
  {
   "cell_type": "code",
   "execution_count": 12,
   "id": "68e05433",
   "metadata": {},
   "outputs": [
    {
     "data": {
      "text/plain": [
       "False"
      ]
     },
     "execution_count": 12,
     "metadata": {},
     "output_type": "execute_result"
    }
   ],
   "source": [
    "not ((5 > 4) or (3 == 5))"
   ]
  },
  {
   "cell_type": "code",
   "execution_count": 13,
   "id": "0166b99e",
   "metadata": {},
   "outputs": [
    {
     "data": {
      "text/plain": [
       "False"
      ]
     },
     "execution_count": 13,
     "metadata": {},
     "output_type": "execute_result"
    }
   ],
   "source": [
    "(True and True) and (True == False) # False\n"
   ]
  },
  {
   "cell_type": "code",
   "execution_count": 14,
   "id": "d57f4a5d",
   "metadata": {},
   "outputs": [
    {
     "data": {
      "text/plain": [
       "True"
      ]
     },
     "execution_count": 14,
     "metadata": {},
     "output_type": "execute_result"
    }
   ],
   "source": [
    "(not False) or (not True) # True"
   ]
  },
  {
   "cell_type": "code",
   "execution_count": 15,
   "id": "7e938322",
   "metadata": {},
   "outputs": [
    {
     "name": "stdout",
     "output_type": "stream",
     "text": [
      "False\n",
      "True\n",
      "False\n",
      "False\n",
      "True\n"
     ]
    }
   ],
   "source": [
    "# 5. What are the six comparison operators?\n",
    "# Greater than (>)\n",
    "# Less than (<)\n",
    "# Greater than ot equal to (>=)\n",
    "# Less than or equal to (<=)\n",
    "# Equal to (==)\n",
    "# Not Eual to (!=)\n",
    "x = 5\n",
    "y = 10\n",
    "\n",
    "print(x > y)  # Output: False\n",
    "print(x < y)  # Output: True\n",
    "print(x == y)  # Output: False\n",
    "print(x >= y)  # Output: False\n",
    "print(x <= y)  # Output: True\n"
   ]
  },
  {
   "cell_type": "markdown",
   "id": "f18f67cb",
   "metadata": {},
   "source": [
    "6. How do you tell the difference between the equal to and assignment operators?Describe a condition and when you would use one.\n",
    "\n",
    " Equal to operator:\n",
    "    The equal to operator (==) is used to compare two values for equality. When using equal to operator it will return boolean   values.\n",
    "    Example:\n",
    "        x = 6\n",
    "        y = 10\n",
    "\n",
    "        if x == y:\n",
    "            print(\"x is equal to y\")\n",
    "        else:\n",
    "            print(\"x is not equal to y\")  # optput : x is not equal to y\n",
    "            \n",
    " Assignment Operators:\n",
    "    Assignment operator is used to assign a value to a variable.\n",
    "    Example:\n",
    "        x = 6\n",
    "        y = 10\n",
    "        print(x,y) #output: 6,10\n",
    "\n"
   ]
  },
  {
   "cell_type": "code",
   "execution_count": null,
   "id": "c511be0f",
   "metadata": {},
   "outputs": [],
   "source": [
    "7. Identify the three blocks in this code:\n",
    "#spam = 0\n",
    "#if spam == 10:\n",
    "#    print('eggs')\n",
    "#if spam > 5:\n",
    "#    print('bacon')\n",
    "#else:\n",
    "#    print('ham')\n",
    "#print('spam')\n",
    "#print('spam')\n",
    "\n",
    "Block 1: This condition execute when spam equals to 10\n",
    "    if spam == 10\n",
    "        print('eggs')  \n",
    "    \n",
    "Block 2: This condition is executed when spam is greater than 5 it will print bacon, otherwise it will print ham.\n",
    "    if spam > 5:\n",
    "        print('bacon')\n",
    "    else:\n",
    "        print('ham')  \n",
    "        \n",
    "Block 3: This block is not conditioned by any if statement and will always be executed. \n",
    "    print('spam')\n",
    "    print('spam')"
   ]
  },
  {
   "cell_type": "code",
   "execution_count": null,
   "id": "ac9b4378",
   "metadata": {},
   "outputs": [],
   "source": [
    "# 8. Write code that prints Hello if 1 is stored in spam, prints Howdy if 2 is stored in spam, \n",
    "# and prints Greetings! if anything else is stored in spam.\n",
    "\n",
    "spam =0\n",
    "if spam == 1:\n",
    "    print('Hello')\n",
    "if spam == 2:\n",
    "    print('Howdy')\n",
    "print ('Greeting!')    "
   ]
  },
  {
   "cell_type": "code",
   "execution_count": null,
   "id": "e7889db2",
   "metadata": {},
   "outputs": [],
   "source": [
    "9.If your programme is stuck in an endless loop, what keys you’ll press?\n",
    "\n",
    "-Ctrl + C\n",
    "-Ctrl + D\n",
    "-Ctrl + Break\n"
   ]
  },
  {
   "cell_type": "markdown",
   "id": "aaaee0dd",
   "metadata": {},
   "source": [
    "10. How can you tell the difference between break and continue?\n",
    "\n",
    "Break:\n",
    "    The break statement is used to immediately terminate the loop and continue with the next block of code outside the loop.\n",
    "    \n",
    "Continue:\n",
    "     The continue statement is used to skip the remaining statements in the current iteration of the loop and move on to the next iteration."
   ]
  },
  {
   "cell_type": "code",
   "execution_count": 6,
   "id": "2cf28182",
   "metadata": {},
   "outputs": [
    {
     "name": "stdout",
     "output_type": "stream",
     "text": [
      "0\n",
      "1\n",
      "2\n",
      "3\n",
      "4\n"
     ]
    }
   ],
   "source": [
    "# Example for break\n",
    "for i in range(10):\n",
    "    if i == 5:\n",
    "        break\n",
    "    print(i)\n"
   ]
  },
  {
   "cell_type": "code",
   "execution_count": 7,
   "id": "6e75dbeb",
   "metadata": {},
   "outputs": [
    {
     "name": "stdout",
     "output_type": "stream",
     "text": [
      "1\n",
      "3\n",
      "5\n",
      "7\n",
      "9\n"
     ]
    }
   ],
   "source": [
    "# Example for Continue\n",
    "for i in range(10):\n",
    "    if i % 2 == 0:\n",
    "        continue\n",
    "    print(i)\n"
   ]
  },
  {
   "cell_type": "code",
   "execution_count": null,
   "id": "b7f7d457",
   "metadata": {},
   "outputs": [],
   "source": [
    "11. In a for loop, what is the difference between range(10), range(0, 10), and range(0, 10, 1)?\n",
    "\n",
    "range(10):\n",
    "    It will generate sequence of values starting from 0 and ending with 9 (ie.,10-1).\n",
    "\n",
    "range(0,10):\n",
    "    It will generate sequence of values starting from 0 and ending with 9 (ie.,10-1), which is same as range(10).\n",
    "        \n",
    "range(0,10,1):\n",
    "    It will generate sequence of values starting from 0 and ending with 9 (ie.,10-1) and incrementing by the given step value (1).\n"
   ]
  },
  {
   "cell_type": "code",
   "execution_count": 11,
   "id": "472a3378",
   "metadata": {},
   "outputs": [
    {
     "name": "stdout",
     "output_type": "stream",
     "text": [
      "0\n",
      "1\n",
      "2\n",
      "3\n",
      "4\n",
      "5\n",
      "6\n",
      "7\n",
      "8\n",
      "9\n",
      "0\n",
      "1\n",
      "2\n",
      "3\n",
      "4\n",
      "5\n",
      "6\n",
      "7\n",
      "8\n",
      "9\n",
      "0\n",
      "1\n",
      "2\n",
      "3\n",
      "4\n",
      "5\n",
      "6\n",
      "7\n",
      "8\n",
      "9\n"
     ]
    }
   ],
   "source": [
    "# Example for range\n",
    "for i in range(10):\n",
    "    print(i)\n",
    "for j in range(0,10):\n",
    "    print(j)\n",
    "for k in range(0,10,1):\n",
    "    print(k)    "
   ]
  },
  {
   "cell_type": "markdown",
   "id": "de47afb9",
   "metadata": {},
   "source": [
    "12. Write a short program that prints the numbers 1 to 10 using a for loop. Then write an equivalent program that prints the numbers 1 to 10 using a while loop.\n"
   ]
  },
  {
   "cell_type": "code",
   "execution_count": 12,
   "id": "8cd5336f",
   "metadata": {},
   "outputs": [
    {
     "name": "stdout",
     "output_type": "stream",
     "text": [
      "1\n",
      "2\n",
      "3\n",
      "4\n",
      "5\n",
      "6\n",
      "7\n",
      "8\n",
      "9\n",
      "10\n"
     ]
    }
   ],
   "source": [
    "#For loop to print 1 to 10\n",
    "\n",
    "for i in range(1,11):\n",
    "    print (i)\n"
   ]
  },
  {
   "cell_type": "code",
   "execution_count": 8,
   "id": "73ba96e5",
   "metadata": {},
   "outputs": [
    {
     "name": "stdout",
     "output_type": "stream",
     "text": [
      "1\n",
      "2\n",
      "3\n",
      "4\n",
      "5\n",
      "6\n",
      "7\n",
      "8\n",
      "9\n",
      "10\n"
     ]
    }
   ],
   "source": [
    "#while loop to print 1 to 10\n",
    "i = 1\n",
    "while i<=10:\n",
    "    print(i)\n",
    "    i += 1"
   ]
  },
  {
   "cell_type": "markdown",
   "id": "98881b8d",
   "metadata": {},
   "source": [
    "13. If you had a function named bacon() inside a module named spam, how would you call it after importing spam?\n",
    "\n",
    "A function named bacon() inside a module named spam, we can call it after importing the spam module using the dot notation.\n",
    "\n",
    "import spam\n",
    "spam.bacon()"
   ]
  }
 ],
 "metadata": {
  "kernelspec": {
   "display_name": "Python 3 (ipykernel)",
   "language": "python",
   "name": "python3"
  },
  "language_info": {
   "codemirror_mode": {
    "name": "ipython",
    "version": 3
   },
   "file_extension": ".py",
   "mimetype": "text/x-python",
   "name": "python",
   "nbconvert_exporter": "python",
   "pygments_lexer": "ipython3",
   "version": "3.10.9"
  }
 },
 "nbformat": 4,
 "nbformat_minor": 5
}
