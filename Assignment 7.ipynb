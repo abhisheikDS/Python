{
 "cells": [
  {
   "cell_type": "markdown",
   "id": "146bc2e3",
   "metadata": {},
   "source": [
    "Q.1. Create two int type variables, apply addition, subtraction, division and multiplications\n",
    "and store the results in variables. Then print the data in the following format by calling the\n",
    "variables:\n",
    "First variable is __ & second variable is __.\n",
    "Addition: __ + __ = __\n",
    "Subtraction: __ - __ = __\n",
    "Multiplication: __ * __ = __\n",
    "Division: __ / __ = __"
   ]
  },
  {
   "cell_type": "code",
   "execution_count": 10,
   "id": "cf8f8956",
   "metadata": {},
   "outputs": [
    {
     "name": "stdout",
     "output_type": "stream",
     "text": [
      "First variable is 10 & second variable is 2\n",
      "Addition: 10 + 2 = 12\n",
      "Subtraction: 10 - 2 = 8\n",
      "Multiplication:10 - 2 = 20\n",
      "Division: 10 - 2 = 5.0\n"
     ]
    }
   ],
   "source": [
    "a=10\n",
    "b=2\n",
    "result=0\n",
    "print(\"First variable is \"+ str(a) +\" & second variable is \" +str(b))\n",
    "print(\"Addition: \"+ str(a) +\" + \"+ str(b) +\" = \" +str(a+b))\n",
    "print(\"Subtraction: \"+ str(a) +\" - \"+ str(b) +\" = \" +str(a-b))\n",
    "print(\"Multiplication:\" + str(a) +\" - \"+ str(b) +\" = \" +str(a*b))\n",
    "print(\"Division: \"+ str(a) +\" - \"+ str(b) +\" = \" +str(a/b))"
   ]
  },
  {
   "cell_type": "code",
   "execution_count": 12,
   "id": "82504d1d",
   "metadata": {},
   "outputs": [
    {
     "name": "stdout",
     "output_type": "stream",
     "text": [
      "2.3333333333333335\n"
     ]
    }
   ],
   "source": [
    "Q.2. What is the difference between the following operators:\n",
    "    \n",
    "i) / - The forward slash (/) operator performs normal division and returns a float or decimal result.\n",
    "   Example - \n",
    "    result = 7 / 3\n",
    "    print(result)  # Output: 2.3333333333333335\n",
    "    \n",
    "   // - The double forward slash (//) operator performs floor division and returns the largest integer less than or equal to the division result.  \n",
    "   Example -\n",
    "    result = 7 // 3\n",
    "    print(result)  # Output: 2\n",
    "    \n",
    "ii) ** - It is used for exponentiation.\n",
    "     Example:\n",
    "        result = 2 ** 3\n",
    "        print(result)  # Output: 8\n",
    "        \n",
    "    ^ - It is a bitwise XOR operator.\n",
    "      Example:\n",
    "            result = 5 ^ 3\n",
    "            print(result)  # Output: 6\n",
    "\n",
    "\n"
   ]
  },
  {
   "cell_type": "markdown",
   "id": "2b9069a9",
   "metadata": {},
   "source": [
    "Q.3. List the logical operators.\n",
    "\n",
    "AND - The and operator returns true if both operands are true. Otherwise it returns false.\n",
    "OR - The or operator return ture if atleast one operand is true.\n",
    "NOT - The not operator is a unary operator that returns the opposite of the operand. If the operand is true, it returns false, and if the operand is false, it returns true."
   ]
  },
  {
   "cell_type": "code",
   "execution_count": 13,
   "id": "7d630eda",
   "metadata": {},
   "outputs": [
    {
     "name": "stdout",
     "output_type": "stream",
     "text": [
      "False\n",
      "True\n",
      "False\n"
     ]
    }
   ],
   "source": [
    "#Example for and , or , not\n",
    "a=True\n",
    "b=False\n",
    "\n",
    "print(a and b);\n",
    "print(a or b);\n",
    "print(not(a));\n"
   ]
  },
  {
   "cell_type": "code",
   "execution_count": null,
   "id": "dc719de5",
   "metadata": {},
   "outputs": [],
   "source": [
    "Q.4. Explain right shift operator and left shift operator with examples."
   ]
  },
  {
   "cell_type": "code",
   "execution_count": 14,
   "id": "fe746a84",
   "metadata": {},
   "outputs": [
    {
     "name": "stdout",
     "output_type": "stream",
     "text": [
      "10 is present in list\n"
     ]
    }
   ],
   "source": [
    "#Q.5. Create a list containing int type data of length 15. Then write a code to check if 10 is\n",
    "#present in the list or not.\n",
    "\n",
    "a = []\n",
    "for i in range(15):\n",
    "    a.append(i+1)\n",
    "if 10 in a:\n",
    "    print(\"10 is present in list\")\n",
    "else:\n",
    "    print(\"10 is not present in list\")\n"
   ]
  },
  {
   "cell_type": "code",
   "execution_count": null,
   "id": "d2a272e6",
   "metadata": {},
   "outputs": [],
   "source": []
  }
 ],
 "metadata": {
  "kernelspec": {
   "display_name": "Python 3 (ipykernel)",
   "language": "python",
   "name": "python3"
  },
  "language_info": {
   "codemirror_mode": {
    "name": "ipython",
    "version": 3
   },
   "file_extension": ".py",
   "mimetype": "text/x-python",
   "name": "python",
   "nbconvert_exporter": "python",
   "pygments_lexer": "ipython3",
   "version": "3.10.9"
  }
 },
 "nbformat": 4,
 "nbformat_minor": 5
}
