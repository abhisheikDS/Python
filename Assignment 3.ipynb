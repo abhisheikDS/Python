{
 "cells": [
  {
   "cell_type": "code",
   "execution_count": null,
   "id": "a670806d",
   "metadata": {},
   "outputs": [],
   "source": [
    "1. Why are functions advantageous to have in your programs?\n",
    "\n",
    "-Functions allow you to write a piece of code once and reuse it multiple times throughout your program or even in different programs. This reduces code duplication and promotes modular programming.\n",
    "-Functions provide a level of abstraction by encapsulating a specific task or functionality.\n",
    "-Functions enhance the readability of your code.\n",
    "-Functions help in organizing your code into logical blocks or modules,hence making it easier to understand and maintain."
   ]
  },
  {
   "cell_type": "code",
   "execution_count": 1,
   "id": "43780fd5",
   "metadata": {},
   "outputs": [
    {
     "name": "stdout",
     "output_type": "stream",
     "text": [
      "This is my first code\n"
     ]
    }
   ],
   "source": [
    "2. When does the code in a function run: when it's specified or when it's called?\n",
    "\n",
    "The code in a function run when it is called.\n",
    "Example:\n",
    "def My_first_program() : # function definition\n",
    "    print(\"This is my first code\") \n",
    "My_first_program()  # function call  "
   ]
  },
  {
   "cell_type": "code",
   "execution_count": 2,
   "id": "c346368e",
   "metadata": {},
   "outputs": [
    {
     "name": "stdout",
     "output_type": "stream",
     "text": [
      "This is my first code\n"
     ]
    }
   ],
   "source": [
    "3. What statement creates a function?\n",
    "def statement is used to create a function.\n",
    "Example:\n",
    "    \n",
    "def My_first_program() :\n",
    "    print(\"This is my first code\")\n",
    "My_first_program()   "
   ]
  },
  {
   "cell_type": "code",
   "execution_count": 2,
   "id": "e7ff97b6",
   "metadata": {},
   "outputs": [
    {
     "name": "stdout",
     "output_type": "stream",
     "text": [
      "Hello, Abhisheik!\n"
     ]
    }
   ],
   "source": [
    "4. What is the difference between a function and a function call?\n",
    "\n",
    "Function: A function is a named block of reusable code that performs a specific task or a set of instructions. \n",
    "          def statement is used to create a function.\n",
    "        \n",
    "Function Call: A function call, also known as invoking a function, is the act of executing a function to perform its defined task. \n",
    "               When you want to use a function and execute its code, you make a function call. \n",
    "Example:\n",
    "    \n",
    "def demo(name):\n",
    "    message = f\"Hello, {name}!\"\n",
    "    print(message)\n",
    "\n",
    "# Function Definition: The 'demo' function is defined with a parameter 'name'.\n",
    "\n",
    "demo(\"Abhisheik\")\n",
    "# Function Call: The 'demo' function is called with the argument \"Abhisheik\".\n",
    "\n"
   ]
  },
  {
   "cell_type": "code",
   "execution_count": null,
   "id": "ad61ab96",
   "metadata": {},
   "outputs": [],
   "source": [
    "5. How many global scopes are there in a Python program? How many local scopes?\n",
    "\n",
    "There are one global scopes and multiple local scopes. \n",
    "\n",
    "Global Scope: \n",
    "    The global scope is declared outside the function or class. \n",
    "    Variables, functions, and classes defined in the global scope can be accessed from anywhere within the program.\n",
    "    \n",
    "Local Scope:\n",
    "    Local scopes are used to store variables, functions, and classes that are specific to that particular function or class. \n",
    "    These variables and entities are only accessible within their respective local scopes and are not visible outside of them."
   ]
  },
  {
   "cell_type": "code",
   "execution_count": 5,
   "id": "b2771a32",
   "metadata": {},
   "outputs": [
    {
     "name": "stdout",
     "output_type": "stream",
     "text": [
      "10\n"
     ]
    },
    {
     "ename": "NameError",
     "evalue": "name 'x' is not defined",
     "output_type": "error",
     "traceback": [
      "\u001b[1;31m---------------------------------------------------------------------------\u001b[0m",
      "\u001b[1;31mNameError\u001b[0m                                 Traceback (most recent call last)",
      "Cell \u001b[1;32mIn[5], line 11\u001b[0m\n\u001b[0;32m      8\u001b[0m     \u001b[38;5;28mprint\u001b[39m(x)  \u001b[38;5;66;03m# Print the value of x within the local scope\u001b[39;00m\n\u001b[0;32m     10\u001b[0m my_function()  \u001b[38;5;66;03m# Call the function\u001b[39;00m\n\u001b[1;32m---> 11\u001b[0m \u001b[38;5;28mprint\u001b[39m(\u001b[43mx\u001b[49m)\n",
      "\u001b[1;31mNameError\u001b[0m: name 'x' is not defined"
     ]
    }
   ],
   "source": [
    "6. What happens to variables in a local scope when the function call returns?\n",
    "\n",
    "The variables in the local scope are no longer accessible or available for use once the function call completes.\n",
    "\n",
    "def my_function():\n",
    "    x = 10  # Local variable\n",
    "    \n",
    "    print(x)  # Print the value of x within the local scope\n",
    "\n",
    "my_function()  # Call the function\n",
    "print(x)       # Attempt to access x outside the local scope\n"
   ]
  },
  {
   "cell_type": "code",
   "execution_count": 4,
   "id": "61115a27",
   "metadata": {},
   "outputs": [
    {
     "name": "stdout",
     "output_type": "stream",
     "text": [
      "36\n"
     ]
    }
   ],
   "source": [
    "7. What is the concept of a return value? Is it possible to have a return value in an expression?\n",
    "\n",
    "-The return value refers to the value that a function can provide as output when it is called. \n",
    "-Yes, it is possible to have a return value in an expression. It directly use the return value of a function call within an expression.\n",
    "Example:\n",
    "\n",
    "def add(x,y):\n",
    "    return x + y\n",
    "\n",
    "result = add(10,15)+add(5,6)\n",
    "print(result)  # Output: 36\n"
   ]
  },
  {
   "cell_type": "code",
   "execution_count": 5,
   "id": "3093f6b1",
   "metadata": {},
   "outputs": [
    {
     "name": "stdout",
     "output_type": "stream",
     "text": [
      "Sum of 10 and 15 :  25\n",
      "None\n"
     ]
    }
   ],
   "source": [
    "8. If a function does not have a return statement, what is the return value of a call to that function?\n",
    "    If a function does not have a return statement, the function call will not explicitly return a value instead it will return None.\n",
    "Example:\n",
    "\n",
    "def add(x,y):\n",
    "    c= x + y\n",
    "    print(\"Sum of\", x ,\"and\", y ,\": \", c)\n",
    "\n",
    "print(add(10,15)) # returns none \n"
   ]
  },
  {
   "cell_type": "code",
   "execution_count": 22,
   "id": "a88cb48b",
   "metadata": {},
   "outputs": [
    {
     "name": "stdout",
     "output_type": "stream",
     "text": [
      "20\n"
     ]
    }
   ],
   "source": [
    "9. How do you make a function variable refer to the global variable?\n",
    "\n",
    "-Global keyword is used to make a function variable refer to the global variable.\n",
    "Example:\n",
    "    \n",
    "var_int = 10  # Global variable\n",
    "\n",
    "def global_var():\n",
    "    global var_int  # used global keyword to declare var_int as a global variable\n",
    "    var_int = 20    # Assign a new value to the global variable\n",
    "\n",
    "global_var()\n",
    "print(var_int)    # Output: 20\n"
   ]
  },
  {
   "cell_type": "code",
   "execution_count": 25,
   "id": "fb37c41f",
   "metadata": {},
   "outputs": [
    {
     "name": "stdout",
     "output_type": "stream",
     "text": [
      "<class 'NoneType'>\n"
     ]
    }
   ],
   "source": [
    "10. What is the data type of None?\n",
    "The None keyword is used to define a null variable or an object. \n",
    "\n",
    "Example:\n",
    "\n",
    "x=None\n",
    "print(type(x))"
   ]
  },
  {
   "cell_type": "code",
   "execution_count": null,
   "id": "407ea618",
   "metadata": {},
   "outputs": [],
   "source": [
    "11. What does the sentence import areallyourpetsnamederic do?\n",
    "\n",
    "It is not a valid import statement in python. \n",
    "Therefore, the sentence \"import areallyourpetsnamederic\" would result in a \"ModuleNotFoundError\" because there is no module or package."
   ]
  },
  {
   "cell_type": "code",
   "execution_count": null,
   "id": "ecd652ad",
   "metadata": {},
   "outputs": [],
   "source": [
    "12. If you had a bacon() feature in a spam module, what would you call it after importing spam?\n",
    "- The bacon() function is a feature within the spam module, it would call it as spam.bacon().\n",
    "\n",
    "import spam\n",
    "spam.bacon()\n"
   ]
  },
  {
   "cell_type": "code",
   "execution_count": null,
   "id": "23796ec5",
   "metadata": {},
   "outputs": [],
   "source": [
    "13. What can you do to save a programme from crashing if it encounters an error?\n",
    "To prevent a program from crashing when encountering an error in Python, we can use error handling techniques to catch and handle exceptions.\n",
    "Example:\n",
    "try:\n",
    "    result = 10 / 0   # Code that may raise an exception\n",
    "except ZeroDivisionError:\n",
    "    print(\"Error: Division by zero is not allowed.\") # Code to handle the exception\n"
   ]
  },
  {
   "cell_type": "code",
   "execution_count": 26,
   "id": "c321e11c",
   "metadata": {},
   "outputs": [
    {
     "name": "stdout",
     "output_type": "stream",
     "text": [
      "Error: Division by zero is not allowed.\n"
     ]
    }
   ],
   "source": [
    "14. What is the purpose of the try clause? What is the purpose of the except clause?\n",
    "\n",
    "Try clause:\n",
    "    The try block used to test a block of code for errors.\n",
    "Except clause:\n",
    "     It allows you to catch and handle specific types of exceptions that may occur within the try block of code.\n",
    "        \n",
    "Example:\n",
    "try:\n",
    "    result = 10 / 0   # Code that may raise an exception\n",
    "except ZeroDivisionError:\n",
    "    print(\"Error: Division by zero is not allowed.\") # Code to handle the exception\n"
   ]
  },
  {
   "cell_type": "code",
   "execution_count": null,
   "id": "7919a34e",
   "metadata": {},
   "outputs": [],
   "source": []
  }
 ],
 "metadata": {
  "kernelspec": {
   "display_name": "Python 3 (ipykernel)",
   "language": "python",
   "name": "python3"
  },
  "language_info": {
   "codemirror_mode": {
    "name": "ipython",
    "version": 3
   },
   "file_extension": ".py",
   "mimetype": "text/x-python",
   "name": "python",
   "nbconvert_exporter": "python",
   "pygments_lexer": "ipython3",
   "version": "3.10.9"
  }
 },
 "nbformat": 4,
 "nbformat_minor": 5
}
