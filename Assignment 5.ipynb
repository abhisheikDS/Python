{
 "cells": [
  {
   "cell_type": "code",
   "execution_count": 2,
   "id": "f21d7760",
   "metadata": {},
   "outputs": [
    {
     "data": {
      "text/plain": [
       "{}"
      ]
     },
     "execution_count": 2,
     "metadata": {},
     "output_type": "execute_result"
    }
   ],
   "source": [
    "#1. What does an empty dictionary's code look like?\n",
    "dic={}\n",
    "dic"
   ]
  },
  {
   "cell_type": "code",
   "execution_count": 5,
   "id": "fa084ff7",
   "metadata": {},
   "outputs": [
    {
     "name": "stdout",
     "output_type": "stream",
     "text": [
      "dict_values([42]) dict_keys(['foo']) dict_items([('foo', 42)])\n"
     ]
    }
   ],
   "source": [
    "#2. What is the value of a dictionary value with the key 'foo' and the value 42?\n",
    "dic={'foo':42}\n",
    "print(dic.values(),dic.keys(), dic.items() )\n"
   ]
  },
  {
   "cell_type": "code",
   "execution_count": null,
   "id": "9d2b1a1a",
   "metadata": {},
   "outputs": [],
   "source": [
    "3. What is the most significant distinction between a dictionary and a list?\n",
    "\n",
    "List:\n",
    "    - List are ordered collection of elements. They are accessed by indices.\n",
    "    - List are mutable and heterogeneous.\n",
    "    - List can contain dupilacate values.\n",
    "    - example: lis = [1,2,4,5,\"hi\"]\n",
    "\n",
    "Dictionary:\n",
    "    - Dictionaries are unordered collection of key pair values.\n",
    "    - They are mutable and heterogeneous.\n",
    "    - Dictionary keys must be unique.\n",
    "    - Example: dic={'k1':'hi','k2':42}\n",
    "    \n",
    "        "
   ]
  },
  {
   "cell_type": "code",
   "execution_count": 8,
   "id": "957c27ed",
   "metadata": {},
   "outputs": [
    {
     "ename": "KeyError",
     "evalue": "'foo'",
     "output_type": "error",
     "traceback": [
      "\u001b[1;31m---------------------------------------------------------------------------\u001b[0m",
      "\u001b[1;31mKeyError\u001b[0m                                  Traceback (most recent call last)",
      "Cell \u001b[1;32mIn[8], line 3\u001b[0m\n\u001b[0;32m      1\u001b[0m \u001b[38;5;66;03m#4. What happens if you try to access spam['foo'] if spam is {'bar': 100}?\u001b[39;00m\n\u001b[0;32m      2\u001b[0m spam \u001b[38;5;241m=\u001b[39m {\u001b[38;5;124m'\u001b[39m\u001b[38;5;124mbar\u001b[39m\u001b[38;5;124m'\u001b[39m: \u001b[38;5;241m100\u001b[39m}\n\u001b[1;32m----> 3\u001b[0m \u001b[43mspam\u001b[49m\u001b[43m[\u001b[49m\u001b[38;5;124;43m'\u001b[39;49m\u001b[38;5;124;43mfoo\u001b[39;49m\u001b[38;5;124;43m'\u001b[39;49m\u001b[43m]\u001b[49m\n",
      "\u001b[1;31mKeyError\u001b[0m: 'foo'"
     ]
    }
   ],
   "source": [
    "#4. What happens if you try to access spam['foo'] if spam is {'bar': 100}?\n",
    "spam = {'bar': 100}\n",
    "spam['foo']"
   ]
  },
  {
   "cell_type": "code",
   "execution_count": 21,
   "id": "b6f3ecdb",
   "metadata": {},
   "outputs": [
    {
     "ename": "SyntaxError",
     "evalue": "expected 'else' after 'if' expression (1846851980.py, line 2)",
     "output_type": "error",
     "traceback": [
      "\u001b[1;36m  Cell \u001b[1;32mIn[21], line 2\u001b[1;36m\u001b[0m\n\u001b[1;33m    'cat' in spam: This expression checks if the key 'cat' exists directly in the dictionary spam.\u001b[0m\n\u001b[1;37m                                   ^\u001b[0m\n\u001b[1;31mSyntaxError\u001b[0m\u001b[1;31m:\u001b[0m expected 'else' after 'if' expression\n"
     ]
    }
   ],
   "source": [
    "# 5.If a dictionary is stored in spam, what is the difference between the expressions 'cat' in spam and 'cat' in spam.keys()?\n",
    "'cat' in spam: This expression checks if the key 'cat' exists directly in the dictionary spam.\n",
    "'cat' in spam.keys(): This expression retrieves a list of all the keys in the dictionary spam using the keys() method. \n",
    "    It then checks if the key 'cat' exists in that list. Similarly, it returns True if the key is found, and False otherwise.   \n",
    "\n",
    "spam = {'cat':'black','dog':'white'}\n",
    "print(spam['cat'])\n",
    "'cat' in spam.values()\n"
   ]
  },
  {
   "cell_type": "code",
   "execution_count": 20,
   "id": "a4adf81f",
   "metadata": {},
   "outputs": [
    {
     "name": "stdout",
     "output_type": "stream",
     "text": [
      "black\n"
     ]
    },
    {
     "data": {
      "text/plain": [
       "True"
      ]
     },
     "execution_count": 20,
     "metadata": {},
     "output_type": "execute_result"
    }
   ],
   "source": [
    "#6. If a dictionary is stored in spam, what is the difference between the expressions 'cat' in spam and 'cat' in spam.values()?\n",
    "'cat' in spam: This expression checks if the key 'cat' exists directly in the dictionary spam.\n",
    "'cat' in spam.keys(): This expression retrieves a list of all the values in the dictionary spam using the values() method. \n",
    "    It then checks if the value 'cat' exists in that list. Similarly, it returns True if the value is found, and False otherwise.   \n",
    "\n",
    "\n",
    "spam = {'cat':'black','dog':'white', 'animal':'cat'}\n",
    "print(spam['cat'])\n",
    "'cat' in spam.values()"
   ]
  },
  {
   "cell_type": "code",
   "execution_count": 25,
   "id": "21405e99",
   "metadata": {},
   "outputs": [
    {
     "name": "stdout",
     "output_type": "stream",
     "text": [
      "black\n",
      "dict_items([('cat', 'black'), ('dog', 'white'), ('animal', 'cat'), ('color', 'black')])\n"
     ]
    }
   ],
   "source": [
    "# 7. What is a shortcut for the following code?\n",
    "# if 'color' not in spam:\n",
    "# spam['color'] = 'black'\n",
    "print(spam.setdefault('color', 'black'))\n",
    "print(spam.items())"
   ]
  },
  {
   "cell_type": "code",
   "execution_count": 27,
   "id": "1ca545bc",
   "metadata": {},
   "outputs": [
    {
     "name": "stdout",
     "output_type": "stream",
     "text": [
      "{'animal': 'cat', 'cat': 'black', 'color': 'black', 'dog': 'white'}\n"
     ]
    }
   ],
   "source": [
    "# 8. How do you \"pretty print\" dictionary values using which module and function?\n",
    "import pprint\n",
    "pprint.pprint(spam)"
   ]
  }
 ],
 "metadata": {
  "kernelspec": {
   "display_name": "Python 3 (ipykernel)",
   "language": "python",
   "name": "python3"
  },
  "language_info": {
   "codemirror_mode": {
    "name": "ipython",
    "version": 3
   },
   "file_extension": ".py",
   "mimetype": "text/x-python",
   "name": "python",
   "nbconvert_exporter": "python",
   "pygments_lexer": "ipython3",
   "version": "3.10.9"
  }
 },
 "nbformat": 4,
 "nbformat_minor": 5
}
