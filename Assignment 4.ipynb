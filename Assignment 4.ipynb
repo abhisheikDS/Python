{
 "cells": [
  {
   "cell_type": "code",
   "execution_count": 5,
   "id": "6be418a7",
   "metadata": {},
   "outputs": [
    {
     "data": {
      "text/plain": [
       "list"
      ]
     },
     "execution_count": 5,
     "metadata": {},
     "output_type": "execute_result"
    }
   ],
   "source": [
    "# 1. What exactly is []?\n",
    " [] - It is an empty list.\n",
    " \n",
    "type([]) # list"
   ]
  },
  {
   "cell_type": "code",
   "execution_count": 4,
   "id": "b61c9eb3",
   "metadata": {},
   "outputs": [
    {
     "data": {
      "text/plain": [
       "[2, 4, 'hello', 8, 10]"
      ]
     },
     "execution_count": 4,
     "metadata": {},
     "output_type": "execute_result"
    }
   ],
   "source": [
    "# 2. In a list of values stored in a variable called spam, how would you assign the value 'hello' as the third value? (Assume [2, 4, 6, 8, 10] are in spam.)\n",
    "spam = [2, 4, 6, 8, 10]\n",
    "spam[2]='hello'\n",
    "spam"
   ]
  },
  {
   "cell_type": "code",
   "execution_count": 6,
   "id": "3f396818",
   "metadata": {},
   "outputs": [],
   "source": [
    "#Input List\n",
    "spam = [2, 4, 'hello', 8, 10 ,'a','b','c','d']"
   ]
  },
  {
   "cell_type": "code",
   "execution_count": 6,
   "id": "b8ee018e",
   "metadata": {},
   "outputs": [
    {
     "data": {
      "text/plain": [
       "8"
      ]
     },
     "execution_count": 6,
     "metadata": {},
     "output_type": "execute_result"
    }
   ],
   "source": [
    "# 3. What is the value of spam[int(int('3' * 2) / 11)]?\n",
    "spam[int(int('3' * 2) / 11)] # 8"
   ]
  },
  {
   "cell_type": "code",
   "execution_count": 7,
   "id": "f64a2464",
   "metadata": {},
   "outputs": [
    {
     "data": {
      "text/plain": [
       "'d'"
      ]
     },
     "execution_count": 7,
     "metadata": {},
     "output_type": "execute_result"
    }
   ],
   "source": [
    "# 4. What is the value of spam[-1]?\n",
    "spam[-1]"
   ]
  },
  {
   "cell_type": "code",
   "execution_count": 8,
   "id": "92d3f51a",
   "metadata": {},
   "outputs": [
    {
     "data": {
      "text/plain": [
       "[2, 4]"
      ]
     },
     "execution_count": 8,
     "metadata": {},
     "output_type": "execute_result"
    }
   ],
   "source": [
    "#5. What is the value of spa m[:2]?\n",
    "spam[:2]"
   ]
  },
  {
   "cell_type": "code",
   "execution_count": 11,
   "id": "0ffc279d",
   "metadata": {},
   "outputs": [],
   "source": [
    "bacon = [3.14, 'cat', 11, 'cat', True]"
   ]
  },
  {
   "cell_type": "code",
   "execution_count": 12,
   "id": "ae42cedc",
   "metadata": {},
   "outputs": [
    {
     "data": {
      "text/plain": [
       "1"
      ]
     },
     "execution_count": 12,
     "metadata": {},
     "output_type": "execute_result"
    }
   ],
   "source": [
    "#6. What is the value of bacon.index('cat')?\n",
    "bacon.index('cat')"
   ]
  },
  {
   "cell_type": "code",
   "execution_count": 13,
   "id": "cf5d1c58",
   "metadata": {},
   "outputs": [
    {
     "data": {
      "text/plain": [
       "[3.14, 'cat', 11, 'cat', True, 99]"
      ]
     },
     "execution_count": 13,
     "metadata": {},
     "output_type": "execute_result"
    }
   ],
   "source": [
    "#7. How does bacon.append(99) change the look of the list value in bacon?\n",
    "bacon.append(99)\n",
    "bacon"
   ]
  },
  {
   "cell_type": "code",
   "execution_count": 14,
   "id": "1f103d3b",
   "metadata": {},
   "outputs": [
    {
     "data": {
      "text/plain": [
       "[3.14, 11, 'cat', True, 99]"
      ]
     },
     "execution_count": 14,
     "metadata": {},
     "output_type": "execute_result"
    }
   ],
   "source": [
    "#8. How does bacon.remove('cat') change the look of the list in bacon?\n",
    "bacon.remove('cat')\n",
    "bacon"
   ]
  },
  {
   "cell_type": "code",
   "execution_count": 16,
   "id": "c6f55e59",
   "metadata": {},
   "outputs": [
    {
     "name": "stdout",
     "output_type": "stream",
     "text": [
      "List Concatenation :  [1, 2, 3, 4, 'apple', 'orange', 45]\n",
      "List Replication :  [1, 2, 5, 7, 1, 2, 5, 7, 1, 2, 5, 7]\n"
     ]
    }
   ],
   "source": [
    "# 9. What are the list concatenation and list replication operators?\n",
    "\n",
    "List Concatenation Operator (+):\n",
    "    The + operator allows you to concatenate two or more lists together, resulting in a new list that contains all the elements from the concatenated lists.\n",
    "Example:\n",
    "    \n",
    "l1 = [1,2,3,4]\n",
    "l2 = ['apple','orange',45]\n",
    "concat_list = l1+l2\n",
    "print (\"List Concatenation : \",concat_list)\n",
    "\n",
    "\n",
    "List Replication Operator (*):\n",
    "        The * operator allows you to replicate a list by a given number of times, creating a new list that contains multiple copies of the original list.\n",
    "Example:\n",
    "    \n",
    "l4 =[1,2,5,7]\n",
    "replic_list = l4 * 3\n",
    "print(\"List Replication : \",replic_list)"
   ]
  },
  {
   "cell_type": "code",
   "execution_count": 17,
   "id": "2437610c",
   "metadata": {},
   "outputs": [
    {
     "name": "stdout",
     "output_type": "stream",
     "text": [
      "List append :  [1, 2, 3, 4, 5, 6]\n",
      "List insert :  [1, 2, 10, 3, 4, 5, 6]\n"
     ]
    }
   ],
   "source": [
    "# 10. What is difference between the list methods append() and insert()?\n",
    "\n",
    "append() method :\n",
    "    Append() method is used to add an element to the end of the list.\n",
    "    \n",
    "insert() :\n",
    "    Insert() method is used to insert an element at a specific position in the list.\n",
    "\n",
    "Example for append and insert:\n",
    "    \n",
    "l1 = [1,2,3,4,5]\n",
    "l1.append(6)\n",
    "print(\"List append : \",l1)\n",
    "\n",
    "l1.insert(2,10)\n",
    "print(\"List insert : \",l1)\n"
   ]
  },
  {
   "cell_type": "code",
   "execution_count": 3,
   "id": "8dbe46f1",
   "metadata": {},
   "outputs": [
    {
     "name": "stdout",
     "output_type": "stream",
     "text": [
      "[88, 99, 55, 44]\n",
      "\n",
      "[1, 2, 4]\n"
     ]
    }
   ],
   "source": [
    "# 11. What are the two methods for removing items from a list?\n",
    "\n",
    "# Remove() method :\n",
    "#     This method is used to remove the specified element from the list. It modifies the original list by removing the element if it exists.\n",
    "\n",
    "# Example:\n",
    "list1 = [88,88,99,55,44]\n",
    "list1.remove(88)\n",
    "print(list1)\n",
    "print()\n",
    "\n",
    "# Pop() method:\n",
    "#      The pop() method removes an element based on its index.\n",
    "# Example:\n",
    "list2 = [1, 2, 3, 4]\n",
    "list2.pop(2)\n",
    "print(list2)\n",
    "    "
   ]
  },
  {
   "cell_type": "code",
   "execution_count": 13,
   "id": "f991e8e2",
   "metadata": {},
   "outputs": [
    {
     "ename": "SyntaxError",
     "evalue": "invalid decimal literal (3151907052.py, line 4)",
     "output_type": "error",
     "traceback": [
      "\u001b[1;36m  Cell \u001b[1;32mIn[13], line 4\u001b[1;36m\u001b[0m\n\u001b[1;33m    1.Sequences: Both lists and strings are sequences, meaning they are ordered collections of elements.\u001b[0m\n\u001b[1;37m     ^\u001b[0m\n\u001b[1;31mSyntaxError\u001b[0m\u001b[1;31m:\u001b[0m invalid decimal literal\n"
     ]
    }
   ],
   "source": [
    "12. Describe how list values and string values are identical?\n",
    "\n",
    "\n",
    "1.Sequences: Both lists and strings are sequences, meaning they are ordered collections of elements.\n",
    "    \n",
    "2.Indexing: Both lists and strings support indexing, allowing you to access individual elements by their position within the sequence. \n",
    "    \n",
    "3.Slicing: Lists and strings both support slicing operations, allowing you to extract a subset of elements from the sequence.    \n",
    "\n",
    "4.Iteration: Both lists and strings can be iterated over using loops or comprehensions to process each element or character sequentially.\n",
    "    \n",
    "5.Length: Both lists and strings have a length that represents the number of elements or characters they contain.     "
   ]
  },
  {
   "cell_type": "code",
   "execution_count": 5,
   "id": "4405056a",
   "metadata": {},
   "outputs": [
    {
     "ename": "SyntaxError",
     "evalue": "invalid syntax (133867599.py, line 3)",
     "output_type": "error",
     "traceback": [
      "\u001b[1;36m  Cell \u001b[1;32mIn[5], line 3\u001b[1;36m\u001b[0m\n\u001b[1;33m    List :\u001b[0m\n\u001b[1;37m           ^\u001b[0m\n\u001b[1;31mSyntaxError\u001b[0m\u001b[1;31m:\u001b[0m invalid syntax\n"
     ]
    }
   ],
   "source": [
    "13. What's the difference between tuples and lists?\n",
    "\n",
    "List : \n",
    "    List are orderd collection of elements.\n",
    "    They are mutable and heterogeneous.\n",
    "    List elements are enclosed within '[]'.\n",
    "    Example:\n",
    "    list1 = [1, 2, 3, (1,2,3,4)]\n",
    "\n",
    "Tuple :\n",
    "    Tuple are orderd collection of elements.\n",
    "    They are immutable and heterogeneous.\n",
    "    Tuple elements are enclosed within '()'.\n",
    "    Example:\n",
    "    tuple1 = (1, 2, 3, [1,2,3,4])"
   ]
  },
  {
   "cell_type": "code",
   "execution_count": 4,
   "id": "ea153afe",
   "metadata": {},
   "outputs": [
    {
     "data": {
      "text/plain": [
       "42"
      ]
     },
     "execution_count": 4,
     "metadata": {},
     "output_type": "execute_result"
    }
   ],
   "source": [
    "#14. How do you type a tuple value that only contains the integer 42?\n",
    "\n",
    "my_tuple = (42)\n",
    "my_tuple"
   ]
  },
  {
   "cell_type": "code",
   "execution_count": 24,
   "id": "4a737385",
   "metadata": {},
   "outputs": [
    {
     "name": "stdout",
     "output_type": "stream",
     "text": [
      "(1, 2, 3, 4)\n",
      "[4, 5, 7, 8]\n"
     ]
    }
   ],
   "source": [
    "#15. How do you get a list value's tuple form? How do you get a tuple value's list form?\n",
    "# List to Tuple\n",
    "my_list = [1,2,3,4]\n",
    "my_tuple = tuple(my_list)\n",
    "print(my_tuple)\n",
    "\n",
    "# Tuple to list\n",
    "t= (4,5,7,8)\n",
    "lis = list(t)\n",
    "print(lis)"
   ]
  },
  {
   "cell_type": "code",
   "execution_count": 25,
   "id": "83a5f63b",
   "metadata": {},
   "outputs": [
    {
     "name": "stdout",
     "output_type": "stream",
     "text": [
      "[1, 2, 3]\n",
      "[1, 2, 3]\n"
     ]
    }
   ],
   "source": [
    "# 16. Variables that \"contain\" list values are not necessarily lists themselves. Instead, what do they contain?\n",
    "my_list = [1, 2, 3]\n",
    "print(my_list)\n",
    "\n",
    "another_list = my_list\n",
    "print(another_list)\n"
   ]
  },
  {
   "cell_type": "code",
   "execution_count": 7,
   "id": "f2e4e7c5",
   "metadata": {},
   "outputs": [
    {
     "name": "stdout",
     "output_type": "stream",
     "text": [
      "Example for copy.copy()\n",
      "[1, [5, 3], 4]\n",
      "[1, [5, 3], 4]\n",
      "Example for copy.deepcopy()\n",
      "[1, [2, 3], 4]\n",
      "[1, [5, 3], 4]\n"
     ]
    }
   ],
   "source": [
    "# 17. How do you distinguish between copy.copy() and copy.deepcopy()?\n",
    "\n",
    "# copy.copy():\n",
    "#     The copy() function performs a shallow copy of an object.\n",
    "    \n",
    "# copy.deepcopy() :    \n",
    "#     The deepcopy() function, as the name suggests, performs a deep copy of an object. \n",
    "#     It creates a new object that is a fully independent copy of the original object.\n",
    "\n",
    "# Example code:\n",
    "    \n",
    "import copy\n",
    "\n",
    "original_list = [1, [2, 3], 4]\n",
    "copied_list = copy.copy(original_list)\n",
    "\n",
    "# Modify the nested list in the original object\n",
    "original_list[1][0] = 5\n",
    "print(\"Example for copy.copy()\")\n",
    "print(original_list)  \n",
    "print(copied_list)  \n",
    "\n",
    "original_list1 = [1, [2, 3], 4]\n",
    "deep_copied_list = copy.deepcopy(original_list1)\n",
    "# Modify the nested list in the original object\n",
    "# original_list[1][0] = 5\n",
    "deep_copied_list[1][0] = 5\n",
    "print(\"Example for copy.deepcopy()\")\n",
    "print(original_list1)     \n",
    "print(deep_copied_list)  "
   ]
  },
  {
   "cell_type": "code",
   "execution_count": null,
   "id": "00fd6e12",
   "metadata": {},
   "outputs": [],
   "source": []
  }
 ],
 "metadata": {
  "kernelspec": {
   "display_name": "Python 3 (ipykernel)",
   "language": "python",
   "name": "python3"
  },
  "language_info": {
   "codemirror_mode": {
    "name": "ipython",
    "version": 3
   },
   "file_extension": ".py",
   "mimetype": "text/x-python",
   "name": "python",
   "nbconvert_exporter": "python",
   "pygments_lexer": "ipython3",
   "version": "3.10.9"
  }
 },
 "nbformat": 4,
 "nbformat_minor": 5
}
