{
 "cells": [
  {
   "cell_type": "code",
   "execution_count": 5,
   "id": "1ae60ec8",
   "metadata": {},
   "outputs": [
    {
     "name": "stdout",
     "output_type": "stream",
     "text": [
      "Division by zero error\n"
     ]
    }
   ],
   "source": [
    "1. What is the role of try and exception block?\n",
    "-The try and except blocks in Python are used to handle exceptions or errors that may occur during the execution of a program.\n",
    "-They prevent the program from abruptly terminating.\n",
    "\n",
    "-try block: \n",
    "    This block contains the code that may potentially raise an exception.\n",
    "-except block: \n",
    "    If an exception occurs within the try block, the execution of the try block is immediately halted, and the corresponding except block is executed.\n",
    "    This block define the handling logic for the specific type of exception.\n",
    "    \n",
    "Example:\n",
    "\n",
    "def exception_handling(x,y):\n",
    "    try:\n",
    "        result = x / y\n",
    "        print(result)\n",
    "    except ZeroDivisionError:\n",
    "        print(\"Division by zero error\")\n",
    "exception_handling(10,0)"
   ]
  },
  {
   "cell_type": "code",
   "execution_count": null,
   "id": "4bcebe54",
   "metadata": {},
   "outputs": [],
   "source": [
    "2. What is the syntax for a basic try-except block?\n",
    "try:\n",
    "    # Code that might raise an exception\n",
    "    \n",
    "except ExceptionType:\n",
    "    # Code to handle the exception\n",
    "Example:\n"
   ]
  },
  {
   "cell_type": "code",
   "execution_count": 3,
   "id": "3e5a9164",
   "metadata": {},
   "outputs": [
    {
     "name": "stdout",
     "output_type": "stream",
     "text": [
      "Finally block executed\n"
     ]
    },
    {
     "ename": "ZeroDivisionError",
     "evalue": "division by zero",
     "output_type": "error",
     "traceback": [
      "\u001b[1;31m---------------------------------------------------------------------------\u001b[0m",
      "\u001b[1;31mZeroDivisionError\u001b[0m                         Traceback (most recent call last)",
      "Cell \u001b[1;32mIn[3], line 11\u001b[0m\n\u001b[0;32m      8\u001b[0m     \u001b[38;5;28;01mfinally\u001b[39;00m:\n\u001b[0;32m      9\u001b[0m         \u001b[38;5;28mprint\u001b[39m(\u001b[38;5;124m\"\u001b[39m\u001b[38;5;124mFinally block executed\u001b[39m\u001b[38;5;124m\"\u001b[39m)\n\u001b[1;32m---> 11\u001b[0m \u001b[43mfoo\u001b[49m\u001b[43m(\u001b[49m\u001b[43m)\u001b[49m\n",
      "Cell \u001b[1;32mIn[3], line 5\u001b[0m, in \u001b[0;36mfoo\u001b[1;34m()\u001b[0m\n\u001b[0;32m      2\u001b[0m \u001b[38;5;28;01mdef\u001b[39;00m \u001b[38;5;21mfoo\u001b[39m():\n\u001b[0;32m      3\u001b[0m     \u001b[38;5;28;01mtry\u001b[39;00m:\n\u001b[0;32m      4\u001b[0m         \u001b[38;5;66;03m# Some code that may raise an exception\u001b[39;00m\n\u001b[1;32m----> 5\u001b[0m         result \u001b[38;5;241m=\u001b[39m \u001b[38;5;241;43m1\u001b[39;49m\u001b[43m \u001b[49m\u001b[38;5;241;43m/\u001b[39;49m\u001b[43m \u001b[49m\u001b[38;5;241;43m0\u001b[39;49m\n\u001b[0;32m      6\u001b[0m     \u001b[38;5;28;01mexcept\u001b[39;00m \u001b[38;5;167;01mValueError\u001b[39;00m:\n\u001b[0;32m      7\u001b[0m         \u001b[38;5;28mprint\u001b[39m(\u001b[38;5;124m\"\u001b[39m\u001b[38;5;124mCaught ValueError\u001b[39m\u001b[38;5;124m\"\u001b[39m)\n",
      "\u001b[1;31mZeroDivisionError\u001b[0m: division by zero"
     ]
    }
   ],
   "source": [
    "# 3. What happens if an exception occurs inside a try block and there is no matching except block?\n",
    "-If an exception occurs inside a try block and there is no matching except block to handle that exception, the exception will propagate up the call stack until it is caught by an appropriate exception handler.\n",
    "-If there is no matching except block, the exception will cause the program to terminate. \n",
    "-Before termination, the finally block will be executed if it present. \n",
    "def zeroDivisionError():\n",
    "    try:\n",
    "        # Some code that may raise an exception\n",
    "        result = 1 / 0\n",
    "    except ValueError:\n",
    "        print(\"Caught ValueError\")\n",
    "    finally:\n",
    "        print(\"Finally block executed\")\n",
    "\n",
    "zeroDivisionError()"
   ]
  },
  {
   "cell_type": "code",
   "execution_count": null,
   "id": "da5b737f",
   "metadata": {},
   "outputs": [],
   "source": [
    "4. What is the difference between using a bare except block and specifying a specific exception type?\n",
    "Bare except block:\n",
    "    -It catches all types of exceptions indiscriminately. \n",
    "    -This means that any exception, regardless of its type, will be caught and handled by the bare except block.\n",
    "    -This can be convenient for catching and handling unexpected or unknown exceptions\n",
    "Example:\n",
    "try:\n",
    "    # Some code that may raise an exception\n",
    "    result = 1 / 0\n",
    "except:\n",
    "    print(\"An exception occurred\")\n",
    "\n",
    "Specific Exception:\n",
    "     -It only catches exceptions of that particular type or its derived types.\n",
    "     -This allows to handle different exceptions in different ways, providing more control over the exception handling process. \n",
    "     -By catching specific exception types, we can tailor we error handling logic to handle different exceptions differently, \n",
    "    such as providing specific error messages or taking appropriate recovery actions.\n",
    "Example:\n",
    "try:\n",
    "    # Some code that may raise an exception\n",
    "    result = int(\"not an integer\")\n",
    "except ValueError:\n",
    "    print(\"ValueError occurred\")\n"
   ]
  },
  {
   "cell_type": "code",
   "execution_count": 9,
   "id": "beaa44a9",
   "metadata": {},
   "outputs": [
    {
     "name": "stdout",
     "output_type": "stream",
     "text": [
      "Enter the numerator: 10\n",
      "Enter the denominator: abc\n",
      "Error: Invalid denominator. Please enter a number.\n",
      "Inner try block executed.\n",
      "Outer try block executed.\n"
     ]
    }
   ],
   "source": [
    "5. Can you have nested try-except blocks in Python? If yes, then give an example.\n",
    "Yes, it is possible to have nested try-except blocks in Python\n",
    "Example:\n",
    "\n",
    "def nested_exception() :   \n",
    "    try:# Outer try block\n",
    "        num1 = int(input(\"Enter the numerator: \"))  \n",
    "        try:  # Inner try block\n",
    "            num2 = int(input(\"Enter the denominator: \"))\n",
    "            result = num1 / num2\n",
    "            print(\"Result:\", result)\n",
    "        except ValueError:\n",
    "            print(\"Value Error invalid denominator. Please enter a number.\")\n",
    "        except ZeroDivisionError:\n",
    "            print(\"Cannot divide by zero.\")\n",
    "        finally:\n",
    "            print(\"Inner try block executed.\")\n",
    "    except ValueError:\n",
    "        print(\"Value Error invalid denominator. Please enter a number.\")\n",
    "    finally:\n",
    "        print(\"Outer try block executed.\")\n",
    "nested_exception()"
   ]
  },
  {
   "cell_type": "code",
   "execution_count": 11,
   "id": "6e5defc3",
   "metadata": {},
   "outputs": [
    {
     "name": "stdout",
     "output_type": "stream",
     "text": [
      "Enter number1: 5\n",
      "Enter number2: 0\n",
      "Error: Cannot divide by zero.\n"
     ]
    }
   ],
   "source": [
    "6. Can we use multiple exception blocks, if yes then give an example.\n",
    "Yes, it is possible to use multiple except blocks to handle different types of exceptions inside single try block.\n",
    "\n",
    "def exception_handling():\n",
    "    try:\n",
    "        num1 = int(input(\"Enter number1: \"))\n",
    "        num2 = int(input(\"Enter number2: \"))\n",
    "        result = num1 / num2\n",
    "        print(\"Result:\", result)\n",
    "    except ValueError:\n",
    "        print(\"Error: Invalid input. Please enter a number.\")\n",
    "    except ZeroDivisionError:\n",
    "        print(\"Error: Cannot divide by zero.\")\n",
    "exception_handling()  "
   ]
  },
  {
   "cell_type": "code",
   "execution_count": null,
   "id": "438be396",
   "metadata": {},
   "outputs": [],
   "source": [
    "7. Write the reason due to which following errors are raised: \n",
    "    a. EOFError \n",
    "    b. FloatingPointError \n",
    "    c. IndexError \n",
    "    d. MemoryError \n",
    "    e. OverflowError \n",
    "    f. TabError \n",
    "    g. ValueError\n",
    "    \n",
    "a. EOFError:It usually occurs when there is an error in floating-point calculations, such as dividing a number by zero or attempting to perform an invalid mathematical operation.\n",
    "    -This error is raised when the input() function that reaches the end of the file (EOF) and there is no more input to read.\n",
    "    -when an input statement expects more input but encounters the end of the file.\n",
    "Example:\n",
    "try:\n",
    "    user_input = input(\"Enter a value: \")\n",
    "except EOFError:\n",
    "    print(\"End of input reached.\")\n",
    "\n",
    "    \n",
    "b. FloatingPointError :\n",
    "    -This error raise when there is an error in floating-point calculations, such as dividing a number by zero or attempting to perform an invalid mathematical operation.\n",
    "Example:\n",
    "try:\n",
    "    user_input = input(\"Enter a value: \")\n",
    "except EOFError:\n",
    "    print(\"End of input reached.\")\n",
    "    \n",
    "    \n",
    "c. IndexError:\n",
    "    -IndexError is raised when we try to access a list, tuple, or other sequence with an invalid index or an index that is out of range.\n",
    "Example:\n",
    "try:\n",
    "    my_list = [1, 2, 3]\n",
    "    print(my_list[5])  # Accessing index out of range\n",
    "except IndexError:\n",
    "    print(\"Index out of range.\")\n",
    "\n",
    "    \n",
    "d. MemoryError:\n",
    "    -This error is raised when the program runs out of available memory.\n",
    "    -This can happen when a program tries to allocate more memory than the system has available.\n",
    "Example:\n",
    "try:\n",
    "    big_list = [0] * (10**9)  # Attempt to create a very large list\n",
    "except MemoryError:\n",
    "    print(\"Memory allocation error occurred.\")\n",
    "\n",
    "    \n",
    "e. OverflowError:\n",
    "    -OverflowError occurs in situations where the result of a calculation is too large to be stored within the specified data type.\n",
    "Example:\n",
    "try:\n",
    "    result = 10**1000  # Attempt to calculate a large exponentiation\n",
    "except OverflowError:\n",
    "    print(\"Arithmetic overflow occurred.\")\n",
    "\n",
    "    \n",
    "f. TabError:\n",
    "    -This error is raised when there are inconsistencies in the indentation of code using tabs and spaces. \n",
    "Example:\n",
    "try:\n",
    "    # Some code with inconsistent indentation\n",
    "    if True:\n",
    "        print(\"Indented with spaces\")\n",
    "    \\tprint(\"Indented with a tab\")\n",
    "except TabError:\n",
    "    print(\"Indentation error occurred.\")\n",
    "\n",
    "g. ValueError:\n",
    "    -ValueError occur when a function receives an argument of the correct type but an invalid value. \n",
    "Example:\n",
    "try:\n",
    "    num = int(\"Hello\")\n",
    "expect ValueError:\n",
    "    print(\"Value Error occurred\")"
   ]
  },
  {
   "cell_type": "code",
   "execution_count": null,
   "id": "64c5fb4a",
   "metadata": {},
   "outputs": [],
   "source": [
    "8. Write code for the following given scenario and add try-exception block to it. \n",
    "a. Program to divide two numbers \n",
    "b. Program to convert a string to an integer \n",
    "c. Program to access an element in a list \n",
    "d. Program to handle a specific exception \n",
    "e. Program to handle any exception\n"
   ]
  },
  {
   "cell_type": "code",
   "execution_count": 14,
   "id": "361303bc",
   "metadata": {},
   "outputs": [
    {
     "name": "stdout",
     "output_type": "stream",
     "text": [
      "Enter number1: 10\n",
      "Enter number2: 2\n",
      "Result :  5.0\n"
     ]
    }
   ],
   "source": [
    "#a. Program to divide two numbers \n",
    "def divideTwoNumber():\n",
    "    try:\n",
    "        x = int(input(\"Enter number1: \"))\n",
    "        y = int(input(\"Enter number2: \"))\n",
    "        result = x / y\n",
    "        print(\"Result : \", result)\n",
    "    except ZeroDivisionError:\n",
    "        print(\"Division by zero error\")\n",
    "divideTwoNumber()"
   ]
  },
  {
   "cell_type": "code",
   "execution_count": 17,
   "id": "ccd5dd8b",
   "metadata": {},
   "outputs": [
    {
     "name": "stdout",
     "output_type": "stream",
     "text": [
      "Enter a String : ABCD\n",
      "Error: Invalid input. Please enter a valid input.\n"
     ]
    }
   ],
   "source": [
    "#b. Program to convert a string to an integer \n",
    "def string_to_int():\n",
    "    try:\n",
    "        string_input = input(\"Enter a String : \")\n",
    "        int_input = int(string_input)\n",
    "        print(\"Converting of string to an integer : \",int_input)\n",
    "    except ValueError:\n",
    "        print(\"Error: Invalid input. Please enter a valid input.\")   \n",
    "string_to_int()"
   ]
  },
  {
   "cell_type": "code",
   "execution_count": 4,
   "id": "46f04179",
   "metadata": {},
   "outputs": [
    {
     "name": "stdout",
     "output_type": "stream",
     "text": [
      "Enter the index of the element to find: 6\n",
      "Error: Index out of range. The index should be within the valid range.\n"
     ]
    }
   ],
   "source": [
    "#c. Program to access an element in a list \n",
    "\n",
    "def list_elements():\n",
    "    try:\n",
    "        my_list = [1,2,3,4,5]\n",
    "        index = int(input(\"Enter the index of the element to find: \"))\n",
    "        element = my_list[index]\n",
    "        print(\"Element found:\", element)\n",
    "    except IndexError:\n",
    "        print(\"Error: Index out of range. The index should be within the valid range.\")\n",
    "    except ValueError:\n",
    "        print(\"Error: Invalid input. Please enter a valid integer.\")\n",
    "\n",
    "list_elements()"
   ]
  },
  {
   "cell_type": "code",
   "execution_count": 5,
   "id": "fcb0854f",
   "metadata": {},
   "outputs": [
    {
     "name": "stdout",
     "output_type": "stream",
     "text": [
      "Enter the file path: text.log\n",
      "Error: File not found. Please enter a valid file path.\n"
     ]
    }
   ],
   "source": [
    "#d. Program to handle a specific exception \n",
    "def file_not_found():\n",
    "    try:\n",
    "        file_path = input(\"Enter the file path: \")\n",
    "        file = open(file_path, 'r')\n",
    "        content = file.read()\n",
    "        print(\"File content:\", content)\n",
    "        file.close()\n",
    "    except FileNotFoundError:\n",
    "        print(\"Error: File not found. Please enter a valid file path.\")\n",
    "file_not_found()"
   ]
  },
  {
   "cell_type": "code",
   "execution_count": 4,
   "id": "1a6ed49a",
   "metadata": {},
   "outputs": [
    {
     "name": "stdout",
     "output_type": "stream",
     "text": [
      "An exception occurred:\n",
      "Type: <class 'ZeroDivisionError'>\n",
      "Value: division by zero\n",
      "Traceback: <traceback object at 0x00000121AFEF3B40>\n"
     ]
    }
   ],
   "source": [
    "#e. Program to handle any exception\n",
    "import sys\n",
    "\n",
    "try:\n",
    "    # Some code that may raise an exception\n",
    "    result = 1 / 0\n",
    "except:\n",
    "    exc_type, exc_value, exc_traceback = sys.exc_info()\n",
    "    print(\"An exception occurred:\")\n",
    "    print(\"Type:\", exc_type)\n",
    "    print(\"Value:\", exc_value)\n",
    "    print(\"Traceback:\", exc_traceback)"
   ]
  },
  {
   "cell_type": "code",
   "execution_count": null,
   "id": "ed6f738d",
   "metadata": {},
   "outputs": [],
   "source": []
  }
 ],
 "metadata": {
  "kernelspec": {
   "display_name": "Python 3 (ipykernel)",
   "language": "python",
   "name": "python3"
  },
  "language_info": {
   "codemirror_mode": {
    "name": "ipython",
    "version": 3
   },
   "file_extension": ".py",
   "mimetype": "text/x-python",
   "name": "python",
   "nbconvert_exporter": "python",
   "pygments_lexer": "ipython3",
   "version": "3.10.9"
  }
 },
 "nbformat": 4,
 "nbformat_minor": 5
}
